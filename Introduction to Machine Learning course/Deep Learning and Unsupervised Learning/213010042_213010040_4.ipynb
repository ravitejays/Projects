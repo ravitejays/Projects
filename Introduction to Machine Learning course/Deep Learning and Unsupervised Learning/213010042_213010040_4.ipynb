{
  "nbformat": 4,
  "nbformat_minor": 0,
  "metadata": {
    "colab": {
      "name": "4.ipynb",
      "provenance": [],
      "collapsed_sections": []
    },
    "kernelspec": {
      "name": "python3",
      "display_name": "Python 3"
    },
    "language_info": {
      "name": "python"
    }
  },
  "cells": [
    {
      "cell_type": "markdown",
      "source": [
        "#RAVITEJA Y S - 213010042\n",
        "#SHREYAS G S - 213010040"
      ],
      "metadata": {
        "id": "AsckEnEp2Djb"
      }
    },
    {
      "cell_type": "markdown",
      "source": [
        "# Non-linear dimension reduction: \n",
        "a. Visualize the data from the file DataKPCA.csv.\n",
        "\n",
        "b. Train KPCA. \n",
        "\n",
        "c. Plot the variance explained versus KPCA dimensions for up to 10 dimensions. "
      ],
      "metadata": {
        "id": "u3x2aUMz2Puy"
      }
    },
    {
      "cell_type": "code",
      "execution_count": null,
      "metadata": {
        "id": "POCSDArQOGmJ"
      },
      "outputs": [],
      "source": [
        "import pandas as pd\n",
        "import numpy as np\n",
        "import matplotlib.pyplot as plt\n",
        "import seaborn as sns\n",
        "%matplotlib inline"
      ]
    },
    {
      "cell_type": "code",
      "source": [
        "raw_data = pd.read_csv('/content/DataKPCA.csv')\n",
        "#here we have imported the data from the file"
      ],
      "metadata": {
        "id": "6Rm4o_iZbhzv"
      },
      "execution_count": null,
      "outputs": []
    },
    {
      "cell_type": "code",
      "source": [
        "raw_data"
      ],
      "metadata": {
        "colab": {
          "base_uri": "https://localhost:8080/",
          "height": 423
        },
        "id": "kui1aw_3bmpw",
        "outputId": "34c14292-9f45-4598-f584-fe984d858872"
      },
      "execution_count": null,
      "outputs": [
        {
          "output_type": "execute_result",
          "data": {
            "text/plain": [
              "           x1         x2         x3         x4        x5        x6        x7\n",
              "0    2.596641  15.263178 -46.289607 -10.993265 -2.266729  1.935832  2.039688\n",
              "1    3.096286  14.784802 -48.175614  -8.799362 -2.220871  1.851201  1.921974\n",
              "2    3.360246  14.774917 -49.471841  -9.030501 -1.760447  1.753114  2.041933\n",
              "3    2.214819  15.027394 -43.200400 -13.565001 -2.643018  2.200463  2.141847\n",
              "4    3.398576  15.115756 -49.416644  -6.857672 -2.025936  1.788085  1.875540\n",
              "..        ...        ...        ...        ...       ...       ...       ...\n",
              "185  2.647090  14.246231 -44.947807 -10.412540 -2.809695  2.084152  1.903990\n",
              "186  2.677908  14.620351 -45.776334 -10.196029 -2.640178  2.038005  1.910832\n",
              "187  3.543866  14.487241 -49.692284  -7.773038 -1.865513  1.752195  1.952922\n",
              "188  3.563404  13.945495 -49.131439  -8.156546 -2.104684  1.773425  1.914397\n",
              "189  3.718648  13.810806 -49.414929  -7.661211 -2.154060  1.773895  1.901090\n",
              "\n",
              "[190 rows x 7 columns]"
            ],
            "text/html": [
              "\n",
              "  <div id=\"df-ad01dfd5-79a9-4a36-b101-1c09dbd4a6be\">\n",
              "    <div class=\"colab-df-container\">\n",
              "      <div>\n",
              "<style scoped>\n",
              "    .dataframe tbody tr th:only-of-type {\n",
              "        vertical-align: middle;\n",
              "    }\n",
              "\n",
              "    .dataframe tbody tr th {\n",
              "        vertical-align: top;\n",
              "    }\n",
              "\n",
              "    .dataframe thead th {\n",
              "        text-align: right;\n",
              "    }\n",
              "</style>\n",
              "<table border=\"1\" class=\"dataframe\">\n",
              "  <thead>\n",
              "    <tr style=\"text-align: right;\">\n",
              "      <th></th>\n",
              "      <th>x1</th>\n",
              "      <th>x2</th>\n",
              "      <th>x3</th>\n",
              "      <th>x4</th>\n",
              "      <th>x5</th>\n",
              "      <th>x6</th>\n",
              "      <th>x7</th>\n",
              "    </tr>\n",
              "  </thead>\n",
              "  <tbody>\n",
              "    <tr>\n",
              "      <th>0</th>\n",
              "      <td>2.596641</td>\n",
              "      <td>15.263178</td>\n",
              "      <td>-46.289607</td>\n",
              "      <td>-10.993265</td>\n",
              "      <td>-2.266729</td>\n",
              "      <td>1.935832</td>\n",
              "      <td>2.039688</td>\n",
              "    </tr>\n",
              "    <tr>\n",
              "      <th>1</th>\n",
              "      <td>3.096286</td>\n",
              "      <td>14.784802</td>\n",
              "      <td>-48.175614</td>\n",
              "      <td>-8.799362</td>\n",
              "      <td>-2.220871</td>\n",
              "      <td>1.851201</td>\n",
              "      <td>1.921974</td>\n",
              "    </tr>\n",
              "    <tr>\n",
              "      <th>2</th>\n",
              "      <td>3.360246</td>\n",
              "      <td>14.774917</td>\n",
              "      <td>-49.471841</td>\n",
              "      <td>-9.030501</td>\n",
              "      <td>-1.760447</td>\n",
              "      <td>1.753114</td>\n",
              "      <td>2.041933</td>\n",
              "    </tr>\n",
              "    <tr>\n",
              "      <th>3</th>\n",
              "      <td>2.214819</td>\n",
              "      <td>15.027394</td>\n",
              "      <td>-43.200400</td>\n",
              "      <td>-13.565001</td>\n",
              "      <td>-2.643018</td>\n",
              "      <td>2.200463</td>\n",
              "      <td>2.141847</td>\n",
              "    </tr>\n",
              "    <tr>\n",
              "      <th>4</th>\n",
              "      <td>3.398576</td>\n",
              "      <td>15.115756</td>\n",
              "      <td>-49.416644</td>\n",
              "      <td>-6.857672</td>\n",
              "      <td>-2.025936</td>\n",
              "      <td>1.788085</td>\n",
              "      <td>1.875540</td>\n",
              "    </tr>\n",
              "    <tr>\n",
              "      <th>...</th>\n",
              "      <td>...</td>\n",
              "      <td>...</td>\n",
              "      <td>...</td>\n",
              "      <td>...</td>\n",
              "      <td>...</td>\n",
              "      <td>...</td>\n",
              "      <td>...</td>\n",
              "    </tr>\n",
              "    <tr>\n",
              "      <th>185</th>\n",
              "      <td>2.647090</td>\n",
              "      <td>14.246231</td>\n",
              "      <td>-44.947807</td>\n",
              "      <td>-10.412540</td>\n",
              "      <td>-2.809695</td>\n",
              "      <td>2.084152</td>\n",
              "      <td>1.903990</td>\n",
              "    </tr>\n",
              "    <tr>\n",
              "      <th>186</th>\n",
              "      <td>2.677908</td>\n",
              "      <td>14.620351</td>\n",
              "      <td>-45.776334</td>\n",
              "      <td>-10.196029</td>\n",
              "      <td>-2.640178</td>\n",
              "      <td>2.038005</td>\n",
              "      <td>1.910832</td>\n",
              "    </tr>\n",
              "    <tr>\n",
              "      <th>187</th>\n",
              "      <td>3.543866</td>\n",
              "      <td>14.487241</td>\n",
              "      <td>-49.692284</td>\n",
              "      <td>-7.773038</td>\n",
              "      <td>-1.865513</td>\n",
              "      <td>1.752195</td>\n",
              "      <td>1.952922</td>\n",
              "    </tr>\n",
              "    <tr>\n",
              "      <th>188</th>\n",
              "      <td>3.563404</td>\n",
              "      <td>13.945495</td>\n",
              "      <td>-49.131439</td>\n",
              "      <td>-8.156546</td>\n",
              "      <td>-2.104684</td>\n",
              "      <td>1.773425</td>\n",
              "      <td>1.914397</td>\n",
              "    </tr>\n",
              "    <tr>\n",
              "      <th>189</th>\n",
              "      <td>3.718648</td>\n",
              "      <td>13.810806</td>\n",
              "      <td>-49.414929</td>\n",
              "      <td>-7.661211</td>\n",
              "      <td>-2.154060</td>\n",
              "      <td>1.773895</td>\n",
              "      <td>1.901090</td>\n",
              "    </tr>\n",
              "  </tbody>\n",
              "</table>\n",
              "<p>190 rows × 7 columns</p>\n",
              "</div>\n",
              "      <button class=\"colab-df-convert\" onclick=\"convertToInteractive('df-ad01dfd5-79a9-4a36-b101-1c09dbd4a6be')\"\n",
              "              title=\"Convert this dataframe to an interactive table.\"\n",
              "              style=\"display:none;\">\n",
              "        \n",
              "  <svg xmlns=\"http://www.w3.org/2000/svg\" height=\"24px\"viewBox=\"0 0 24 24\"\n",
              "       width=\"24px\">\n",
              "    <path d=\"M0 0h24v24H0V0z\" fill=\"none\"/>\n",
              "    <path d=\"M18.56 5.44l.94 2.06.94-2.06 2.06-.94-2.06-.94-.94-2.06-.94 2.06-2.06.94zm-11 1L8.5 8.5l.94-2.06 2.06-.94-2.06-.94L8.5 2.5l-.94 2.06-2.06.94zm10 10l.94 2.06.94-2.06 2.06-.94-2.06-.94-.94-2.06-.94 2.06-2.06.94z\"/><path d=\"M17.41 7.96l-1.37-1.37c-.4-.4-.92-.59-1.43-.59-.52 0-1.04.2-1.43.59L10.3 9.45l-7.72 7.72c-.78.78-.78 2.05 0 2.83L4 21.41c.39.39.9.59 1.41.59.51 0 1.02-.2 1.41-.59l7.78-7.78 2.81-2.81c.8-.78.8-2.07 0-2.86zM5.41 20L4 18.59l7.72-7.72 1.47 1.35L5.41 20z\"/>\n",
              "  </svg>\n",
              "      </button>\n",
              "      \n",
              "  <style>\n",
              "    .colab-df-container {\n",
              "      display:flex;\n",
              "      flex-wrap:wrap;\n",
              "      gap: 12px;\n",
              "    }\n",
              "\n",
              "    .colab-df-convert {\n",
              "      background-color: #E8F0FE;\n",
              "      border: none;\n",
              "      border-radius: 50%;\n",
              "      cursor: pointer;\n",
              "      display: none;\n",
              "      fill: #1967D2;\n",
              "      height: 32px;\n",
              "      padding: 0 0 0 0;\n",
              "      width: 32px;\n",
              "    }\n",
              "\n",
              "    .colab-df-convert:hover {\n",
              "      background-color: #E2EBFA;\n",
              "      box-shadow: 0px 1px 2px rgba(60, 64, 67, 0.3), 0px 1px 3px 1px rgba(60, 64, 67, 0.15);\n",
              "      fill: #174EA6;\n",
              "    }\n",
              "\n",
              "    [theme=dark] .colab-df-convert {\n",
              "      background-color: #3B4455;\n",
              "      fill: #D2E3FC;\n",
              "    }\n",
              "\n",
              "    [theme=dark] .colab-df-convert:hover {\n",
              "      background-color: #434B5C;\n",
              "      box-shadow: 0px 1px 3px 1px rgba(0, 0, 0, 0.15);\n",
              "      filter: drop-shadow(0px 1px 2px rgba(0, 0, 0, 0.3));\n",
              "      fill: #FFFFFF;\n",
              "    }\n",
              "  </style>\n",
              "\n",
              "      <script>\n",
              "        const buttonEl =\n",
              "          document.querySelector('#df-ad01dfd5-79a9-4a36-b101-1c09dbd4a6be button.colab-df-convert');\n",
              "        buttonEl.style.display =\n",
              "          google.colab.kernel.accessAllowed ? 'block' : 'none';\n",
              "\n",
              "        async function convertToInteractive(key) {\n",
              "          const element = document.querySelector('#df-ad01dfd5-79a9-4a36-b101-1c09dbd4a6be');\n",
              "          const dataTable =\n",
              "            await google.colab.kernel.invokeFunction('convertToInteractive',\n",
              "                                                     [key], {});\n",
              "          if (!dataTable) return;\n",
              "\n",
              "          const docLinkHtml = 'Like what you see? Visit the ' +\n",
              "            '<a target=\"_blank\" href=https://colab.research.google.com/notebooks/data_table.ipynb>data table notebook</a>'\n",
              "            + ' to learn more about interactive tables.';\n",
              "          element.innerHTML = '';\n",
              "          dataTable['output_type'] = 'display_data';\n",
              "          await google.colab.output.renderOutput(dataTable, element);\n",
              "          const docLink = document.createElement('div');\n",
              "          docLink.innerHTML = docLinkHtml;\n",
              "          element.appendChild(docLink);\n",
              "        }\n",
              "      </script>\n",
              "    </div>\n",
              "  </div>\n",
              "  "
            ]
          },
          "metadata": {},
          "execution_count": 4
        }
      ]
    },
    {
      "cell_type": "code",
      "source": [
        "print(raw_data.columns)"
      ],
      "metadata": {
        "colab": {
          "base_uri": "https://localhost:8080/"
        },
        "id": "K96zFIUFbnlD",
        "outputId": "afcdec46-5fb2-4a83-a9ee-96176ff3e237"
      },
      "execution_count": null,
      "outputs": [
        {
          "output_type": "stream",
          "name": "stdout",
          "text": [
            "Index(['x1', 'x2', 'x3', 'x4', 'x5', 'x6', 'x7'], dtype='object')\n"
          ]
        }
      ]
    },
    {
      "cell_type": "code",
      "source": [
        "from sklearn.preprocessing import MinMaxScaler\n",
        "scaler = MinMaxScaler()\n",
        "scaler.fit(raw_data)\n",
        "scaled_data = scaler.transform(raw_data)\n",
        "#here we are scaling the data that is required for training the data with KPCA package"
      ],
      "metadata": {
        "id": "pURCzwBAcTxo"
      },
      "execution_count": null,
      "outputs": []
    },
    {
      "cell_type": "code",
      "source": [
        "scaled_data"
      ],
      "metadata": {
        "colab": {
          "base_uri": "https://localhost:8080/"
        },
        "id": "HH6xmZQ1cb34",
        "outputId": "06490732-aaa4-473b-ba0e-d6823b2d4be6"
      },
      "execution_count": null,
      "outputs": [
        {
          "output_type": "execute_result",
          "data": {
            "text/plain": [
              "array([[0.22135185, 0.51403226, 0.5427103 , ..., 0.51003232, 0.22362386,\n",
              "        0.48699767],\n",
              "       [0.39625764, 0.4473174 , 0.38638555, ..., 0.5274    , 0.12177749,\n",
              "        0.28100555],\n",
              "       [0.48865953, 0.44593896, 0.27894577, ..., 0.70177346, 0.00373942,\n",
              "        0.49092688],\n",
              "       ...,\n",
              "       [0.55293773, 0.40581928, 0.260674  , ..., 0.66198254, 0.00263349,\n",
              "        0.33516256],\n",
              "       [0.55977728, 0.33026684, 0.30716053, ..., 0.57140265, 0.02818208,\n",
              "        0.2677463 ],\n",
              "       [0.61412196, 0.311483  , 0.28366295, ..., 0.55270268, 0.02874758,\n",
              "        0.24445925]])"
            ]
          },
          "metadata": {},
          "execution_count": 7
        }
      ]
    },
    {
      "cell_type": "code",
      "source": [
        "for column in raw_data:\n",
        "  sns.displot(x=column, data=raw_data)"
      ],
      "metadata": {
        "colab": {
          "base_uri": "https://localhost:8080/",
          "height": 1000
        },
        "id": "O5fEniVByMnq",
        "outputId": "6212c164-e637-4f72-e696-a4751a8ce618"
      },
      "execution_count": null,
      "outputs": [
        {
          "output_type": "display_data",
          "data": {
            "text/plain": [
              "<Figure size 360x360 with 1 Axes>"
            ],
            "image/png": "[encoded data removed]"
          },
          "metadata": {
            "needs_background": "light"
          }
        },
        {
          "output_type": "display_data",
          "data": {
            "text/plain": [
              "<Figure size 360x360 with 1 Axes>"
            ],
            "image/png": "[encoded data removed]"
          },
          "metadata": {
            "needs_background": "light"
          }
        },
        {
          "output_type": "display_data",
          "data": {
            "text/plain": [
              "<Figure size 360x360 with 1 Axes>"
            ],
            "image/png": "[encoded data removed]"
          },
          "metadata": {
            "needs_background": "light"
          }
        },
        {
          "output_type": "display_data",
          "data": {
            "text/plain": [
              "<Figure size 360x360 with 1 Axes>"
            ],
            "image/png": "[encoded data removed]"
          },
          "metadata": {
            "needs_background": "light"
          }
        },
        {
          "output_type": "display_data",
          "data": {
            "text/plain": [
              "<Figure size 360x360 with 1 Axes>"
            ],
            "image/png": "[encoded data removed]"
          },
          "metadata": {
            "needs_background": "light"
          }
        },
        {
          "output_type": "display_data",
          "data": {
            "text/plain": [
              "<Figure size 360x360 with 1 Axes>"
            ],
            "image/png": "[encoded data removed]"
          },
          "metadata": {
            "needs_background": "light"
          }
        },
        {
          "output_type": "display_data",
          "data": {
            "text/plain": [
              "<Figure size 360x360 with 1 Axes>"
            ],
            "image/png": "[encoded data removed]"
          },
          "metadata": {
            "needs_background": "light"
          }
        }
      ]
    },
    {
      "cell_type": "markdown",
      "source": [
        "Performing the Data Visualizing using the distribution plot. As we can see that the distribution plot for all the features of the data, it is clear that it is a normal distributed data and only one feature x6is positively skewed data so we can move ahead and therefore we dont have to do the feature transformation and other stuff."
      ],
      "metadata": {
        "id": "iySqkE-WyQBW"
      }
    },
    {
      "cell_type": "code",
      "source": [
        "from sklearn.decomposition import KernelPCA\n",
        "kpca = KernelPCA(n_components=10, kernel=\"rbf\", gamma=15)\n",
        "X = kpca.fit_transform(scaled_data)\n",
        "X.shape"
      ],
      "metadata": {
        "colab": {
          "base_uri": "https://localhost:8080/"
        },
        "id": "s6w8lAWyceRz",
        "outputId": "b58e4203-1759-462f-986d-ca4b93bcbe74"
      },
      "execution_count": null,
      "outputs": [
        {
          "output_type": "execute_result",
          "data": {
            "text/plain": [
              "(190, 10)"
            ]
          },
          "metadata": {},
          "execution_count": 32
        }
      ]
    },
    {
      "cell_type": "markdown",
      "source": [
        "Here we have trained the Scaled data using the KPCA and fitted that data into the variable named X"
      ],
      "metadata": {
        "id": "Wj1ZO7kzrtu9"
      }
    },
    {
      "cell_type": "code",
      "source": [
        "exp_var_kpca = np.var(X, axis=0)\n",
        "exp_var_ratio = exp_var_kpca / np.sum(exp_var_kpca)"
      ],
      "metadata": {
        "id": "K-uCckgtrSb7"
      },
      "execution_count": null,
      "outputs": []
    },
    {
      "cell_type": "code",
      "source": [
        "print(exp_var_ratio)"
      ],
      "metadata": {
        "colab": {
          "base_uri": "https://localhost:8080/"
        },
        "id": "S_Ag46sxs-xT",
        "outputId": "19c6b19c-96b0-4029-a36b-877a265e5336"
      },
      "execution_count": null,
      "outputs": [
        {
          "output_type": "stream",
          "name": "stdout",
          "text": [
            "[0.19195219 0.16859647 0.13155444 0.09811481 0.08822161 0.07883107\n",
            " 0.07154534 0.05996899 0.05851807 0.052697  ]\n"
          ]
        }
      ]
    },
    {
      "cell_type": "markdown",
      "source": [
        "The above shows the Explained variance ratio for each variable of the data which is nothing but the ratio of variance (eigenvalue / total eigenvalues) as asked in the assignment question.\n",
        "\n",
        "Explained variance Ratio is simply the variance of the components. We can simply compute the explained variance (and ratio) by doing the above code. \n",
        "We can even get the cumulative proportion explained variance which is often useful in selecting components and estimating the dimensionality of our space."
      ],
      "metadata": {
        "id": "EBLvGADvtT8m"
      }
    },
    {
      "cell_type": "markdown",
      "source": [
        "# Plot the variance explained versus KPCA dimensions for up to 10 dimensions."
      ],
      "metadata": {
        "id": "x2PxutqL12Ku"
      }
    },
    {
      "cell_type": "code",
      "source": [
        "# Cumulative sum of eigenvalues; This will be used to create step plot\n",
        "# for visualizing the variance explained by each principal component.\n",
        "cumsum = np.cumsum(exp_var_kpca)\n",
        "# Creating the visualization plot\n",
        "plt.plot(range(0,len(cumsum)),cumsum,label='Cumulative explained variance')\n",
        "plt.ylabel('Explained variance ratio')\n",
        "plt.xlabel('Kernel Principal component index')\n",
        "plt.legend(loc='best')\n",
        "plt.tight_layout()\n",
        "plt.show()\n",
        "print(cumsum)"
      ],
      "metadata": {
        "colab": {
          "base_uri": "https://localhost:8080/",
          "height": 333
        },
        "id": "3x09ZM_ptPVx",
        "outputId": "3d68f75b-f552-4128-9b0d-f3a896650a59"
      },
      "execution_count": null,
      "outputs": [
        {
          "output_type": "display_data",
          "data": {
            "text/plain": [
              "<Figure size 432x288 with 1 Axes>"
            ],
            "image/png": "[encoded data removed]"
          },
          "metadata": {
            "needs_background": "light"
          }
        },
        {
          "output_type": "stream",
          "name": "stdout",
          "text": [
            "[0.08599131 0.16151965 0.22045379 0.26440756 0.30392933 0.33924431\n",
            " 0.3712954  0.39816048 0.42437558 0.44798294]\n"
          ]
        }
      ]
    },
    {
      "cell_type": "code",
      "source": [
        "plt.bar(range(0,len(exp_var_kpca)), exp_var_kpca, alpha=0.5, align='center', label='Individual explained variance')\n",
        "plt.ylabel('Explained variance ratio')\n",
        "plt.xlabel('Kernel Principal component index')\n",
        "plt.legend(loc='best')\n",
        "plt.tight_layout()\n",
        "plt.show()"
      ],
      "metadata": {
        "colab": {
          "base_uri": "https://localhost:8080/",
          "height": 297
        },
        "id": "2AZdKQ6LuMWX",
        "outputId": "d1baa0f0-c83d-46a7-8750-99fd47d03a97"
      },
      "execution_count": null,
      "outputs": [
        {
          "output_type": "display_data",
          "data": {
            "text/plain": [
              "<Figure size 432x288 with 1 Axes>"
            ],
            "image/png": "[encoded data removed]"
          },
          "metadata": {
            "needs_background": "light"
          }
        }
      ]
    },
    {
      "cell_type": "markdown",
      "source": [
        "Here, explained_variance_ratio_ method of PCA is used to get the ratio of variance (eigenvalue / total eigenvalues).\n",
        "Bar chart is used to represent individual explained variances.\n",
        "Step plot is used to represent the variance explained by different principal components.\n",
        "Data needs to be scaled before applying PCA technique.\n",
        "So as we can see that I have plotted the experience variance ratio with n_components is 10 as asked in the assignment and from the Individual Explained Variance, the individual features experienced variance is plotted and the first feature  and the next variable has variance and so on. So based on this we can take 3 or 4 components in K-PCA and train our model for the data which can be used for the required model."
      ],
      "metadata": {
        "id": "CVzqPjKMyl5e"
      }
    },
    {
      "cell_type": "markdown",
      "source": [
        "#REFERENCES:\n",
        "\n",
        "For the Kpca explained variance - https://stackoverflow.com/questions/29611842/scikit-learn-kernel-pca-explained-variance\n",
        "\n",
        "https://iq.opengenus.org/kernal-principal-component-analysis/\n",
        "\n",
        "This blog was refered to plot of Explained varinace and the PCA Dimensions https://vitalflux.com/pca-explained-variance-concept-python-example/#:~:text=Explained%20variance%20is%20calculated%20as,decomposition%20PCA%20class.\n",
        "\n",
        "https://www.analyticsvidhya.com/blog/2018/08/dimensionality-reduction-techniques-python/\n",
        "\n",
        "https://scikit-learn.org/stable/modules/generated/sklearn.decomposition.KernelPCA.html"
      ],
      "metadata": {
        "id": "CN1hv772u18X"
      }
    }
  ]
}