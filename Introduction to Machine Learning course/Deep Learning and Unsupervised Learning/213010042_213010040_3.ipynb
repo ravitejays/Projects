{
  "nbformat": 4,
  "nbformat_minor": 0,
  "metadata": {
    "colab": {
      "name": "3.ipynb",
      "provenance": [],
      "collapsed_sections": []
    },
    "kernelspec": {
      "name": "python3",
      "display_name": "Python 3"
    },
    "language_info": {
      "name": "python"
    }
  },
  "cells": [
    {
      "cell_type": "markdown",
      "source": [
        "#RAVITEJA Y S - 213010042\n",
        "#SHREYAS G S - 213010040"
      ],
      "metadata": {
        "id": "Z4aby7gJ2Aze"
      }
    },
    {
      "cell_type": "markdown",
      "source": [
        "#PCA: \n",
        "a. Visualize the data from the file DataPCA.csv.\n",
        "\n",
        "b. Train PCA.\n",
        "\n",
        "c. Plot the variance explained versus PCA dimensions. \n",
        "\n",
        "d. Reconstruct the data with various numbers of PCA dimensions, and compute the \n",
        "MSE. "
      ],
      "metadata": {
        "id": "woevQJIj2JNh"
      }
    },
    {
      "cell_type": "code",
      "execution_count": null,
      "metadata": {
        "id": "rZpO7oHlk4sg"
      },
      "outputs": [],
      "source": [
        "import pandas as pd\n",
        "import numpy as np\n",
        "import matplotlib.pyplot as plt\n",
        "import seaborn as sns\n",
        "%matplotlib inline"
      ]
    },
    {
      "cell_type": "markdown",
      "source": [
        "Imported all the required libraries and uploaded the data of PCA "
      ],
      "metadata": {
        "id": "G9LhoMVQldwx"
      }
    },
    {
      "cell_type": "code",
      "source": [
        "raw_data = pd.read_csv('/content/DataPCA.csv')"
      ],
      "metadata": {
        "id": "_O06cqUGlERU"
      },
      "execution_count": null,
      "outputs": []
    },
    {
      "cell_type": "code",
      "source": [
        "raw_data #Observing the csv file and converting into the pandas dataframe"
      ],
      "metadata": {
        "colab": {
          "base_uri": "https://localhost:8080/",
          "height": 423
        },
        "id": "GChwm-k7lZ8V",
        "outputId": "694432bc-f786-4926-e0ab-8caf6da5b3fc"
      },
      "execution_count": null,
      "outputs": [
        {
          "output_type": "execute_result",
          "data": {
            "text/plain": [
              "           x1        x2        x3        x4        x5        x6        x7\n",
              "0    0.840261 -1.088160  4.861744  4.273055  4.312457 -0.137834  0.076453\n",
              "1    1.320591 -1.174113  5.247360  3.295027  4.283410 -0.363759 -0.170605\n",
              "2    1.537909 -1.175882  5.556251  3.394183  3.971574 -0.888398  0.080617\n",
              "3    0.363552 -1.130608  4.329890  5.547488  4.539732  0.342330  0.251953\n",
              "4    1.567938 -1.114719  5.542104  2.493071  4.156157 -0.609694 -0.291367\n",
              "..        ...       ...       ...       ...       ...       ...       ...\n",
              "185  0.894296 -1.270097  4.618647  4.005702  4.634847  0.156118 -0.215169\n",
              "186  0.926559 -1.203508  4.766199  3.907673  4.538084  0.073321 -0.197924\n",
              "187  1.678706 -1.227245  5.613809  2.864530  4.046335 -0.906304 -0.099063\n",
              "188  1.693254 -1.323340  5.470576  3.023584  4.208331 -0.693895 -0.189082\n",
              "189  1.806170 -1.347104  5.541666  2.818543  4.240505 -0.690840 -0.222595\n",
              "\n",
              "[190 rows x 7 columns]"
            ],
            "text/html": [
              "\n",
              "  <div id=\"df-ee70dded-54b2-450e-9fb9-27d549216a8a\">\n",
              "    <div class=\"colab-df-container\">\n",
              "      <div>\n",
              "<style scoped>\n",
              "    .dataframe tbody tr th:only-of-type {\n",
              "        vertical-align: middle;\n",
              "    }\n",
              "\n",
              "    .dataframe tbody tr th {\n",
              "        vertical-align: top;\n",
              "    }\n",
              "\n",
              "    .dataframe thead th {\n",
              "        text-align: right;\n",
              "    }\n",
              "</style>\n",
              "<table border=\"1\" class=\"dataframe\">\n",
              "  <thead>\n",
              "    <tr style=\"text-align: right;\">\n",
              "      <th></th>\n",
              "      <th>x1</th>\n",
              "      <th>x2</th>\n",
              "      <th>x3</th>\n",
              "      <th>x4</th>\n",
              "      <th>x5</th>\n",
              "      <th>x6</th>\n",
              "      <th>x7</th>\n",
              "    </tr>\n",
              "  </thead>\n",
              "  <tbody>\n",
              "    <tr>\n",
              "      <th>0</th>\n",
              "      <td>0.840261</td>\n",
              "      <td>-1.088160</td>\n",
              "      <td>4.861744</td>\n",
              "      <td>4.273055</td>\n",
              "      <td>4.312457</td>\n",
              "      <td>-0.137834</td>\n",
              "      <td>0.076453</td>\n",
              "    </tr>\n",
              "    <tr>\n",
              "      <th>1</th>\n",
              "      <td>1.320591</td>\n",
              "      <td>-1.174113</td>\n",
              "      <td>5.247360</td>\n",
              "      <td>3.295027</td>\n",
              "      <td>4.283410</td>\n",
              "      <td>-0.363759</td>\n",
              "      <td>-0.170605</td>\n",
              "    </tr>\n",
              "    <tr>\n",
              "      <th>2</th>\n",
              "      <td>1.537909</td>\n",
              "      <td>-1.175882</td>\n",
              "      <td>5.556251</td>\n",
              "      <td>3.394183</td>\n",
              "      <td>3.971574</td>\n",
              "      <td>-0.888398</td>\n",
              "      <td>0.080617</td>\n",
              "    </tr>\n",
              "    <tr>\n",
              "      <th>3</th>\n",
              "      <td>0.363552</td>\n",
              "      <td>-1.130608</td>\n",
              "      <td>4.329890</td>\n",
              "      <td>5.547488</td>\n",
              "      <td>4.539732</td>\n",
              "      <td>0.342330</td>\n",
              "      <td>0.251953</td>\n",
              "    </tr>\n",
              "    <tr>\n",
              "      <th>4</th>\n",
              "      <td>1.567938</td>\n",
              "      <td>-1.114719</td>\n",
              "      <td>5.542104</td>\n",
              "      <td>2.493071</td>\n",
              "      <td>4.156157</td>\n",
              "      <td>-0.609694</td>\n",
              "      <td>-0.291367</td>\n",
              "    </tr>\n",
              "    <tr>\n",
              "      <th>...</th>\n",
              "      <td>...</td>\n",
              "      <td>...</td>\n",
              "      <td>...</td>\n",
              "      <td>...</td>\n",
              "      <td>...</td>\n",
              "      <td>...</td>\n",
              "      <td>...</td>\n",
              "    </tr>\n",
              "    <tr>\n",
              "      <th>185</th>\n",
              "      <td>0.894296</td>\n",
              "      <td>-1.270097</td>\n",
              "      <td>4.618647</td>\n",
              "      <td>4.005702</td>\n",
              "      <td>4.634847</td>\n",
              "      <td>0.156118</td>\n",
              "      <td>-0.215169</td>\n",
              "    </tr>\n",
              "    <tr>\n",
              "      <th>186</th>\n",
              "      <td>0.926559</td>\n",
              "      <td>-1.203508</td>\n",
              "      <td>4.766199</td>\n",
              "      <td>3.907673</td>\n",
              "      <td>4.538084</td>\n",
              "      <td>0.073321</td>\n",
              "      <td>-0.197924</td>\n",
              "    </tr>\n",
              "    <tr>\n",
              "      <th>187</th>\n",
              "      <td>1.678706</td>\n",
              "      <td>-1.227245</td>\n",
              "      <td>5.613809</td>\n",
              "      <td>2.864530</td>\n",
              "      <td>4.046335</td>\n",
              "      <td>-0.906304</td>\n",
              "      <td>-0.099063</td>\n",
              "    </tr>\n",
              "    <tr>\n",
              "      <th>188</th>\n",
              "      <td>1.693254</td>\n",
              "      <td>-1.323340</td>\n",
              "      <td>5.470576</td>\n",
              "      <td>3.023584</td>\n",
              "      <td>4.208331</td>\n",
              "      <td>-0.693895</td>\n",
              "      <td>-0.189082</td>\n",
              "    </tr>\n",
              "    <tr>\n",
              "      <th>189</th>\n",
              "      <td>1.806170</td>\n",
              "      <td>-1.347104</td>\n",
              "      <td>5.541666</td>\n",
              "      <td>2.818543</td>\n",
              "      <td>4.240505</td>\n",
              "      <td>-0.690840</td>\n",
              "      <td>-0.222595</td>\n",
              "    </tr>\n",
              "  </tbody>\n",
              "</table>\n",
              "<p>190 rows × 7 columns</p>\n",
              "</div>\n",
              "      <button class=\"colab-df-convert\" onclick=\"convertToInteractive('df-ee70dded-54b2-450e-9fb9-27d549216a8a')\"\n",
              "              title=\"Convert this dataframe to an interactive table.\"\n",
              "              style=\"display:none;\">\n",
              "        \n",
              "  <svg xmlns=\"http://www.w3.org/2000/svg\" height=\"24px\"viewBox=\"0 0 24 24\"\n",
              "       width=\"24px\">\n",
              "    <path d=\"M0 0h24v24H0V0z\" fill=\"none\"/>\n",
              "    <path d=\"M18.56 5.44l.94 2.06.94-2.06 2.06-.94-2.06-.94-.94-2.06-.94 2.06-2.06.94zm-11 1L8.5 8.5l.94-2.06 2.06-.94-2.06-.94L8.5 2.5l-.94 2.06-2.06.94zm10 10l.94 2.06.94-2.06 2.06-.94-2.06-.94-.94-2.06-.94 2.06-2.06.94z\"/><path d=\"M17.41 7.96l-1.37-1.37c-.4-.4-.92-.59-1.43-.59-.52 0-1.04.2-1.43.59L10.3 9.45l-7.72 7.72c-.78.78-.78 2.05 0 2.83L4 21.41c.39.39.9.59 1.41.59.51 0 1.02-.2 1.41-.59l7.78-7.78 2.81-2.81c.8-.78.8-2.07 0-2.86zM5.41 20L4 18.59l7.72-7.72 1.47 1.35L5.41 20z\"/>\n",
              "  </svg>\n",
              "      </button>\n",
              "      \n",
              "  <style>\n",
              "    .colab-df-container {\n",
              "      display:flex;\n",
              "      flex-wrap:wrap;\n",
              "      gap: 12px;\n",
              "    }\n",
              "\n",
              "    .colab-df-convert {\n",
              "      background-color: #E8F0FE;\n",
              "      border: none;\n",
              "      border-radius: 50%;\n",
              "      cursor: pointer;\n",
              "      display: none;\n",
              "      fill: #1967D2;\n",
              "      height: 32px;\n",
              "      padding: 0 0 0 0;\n",
              "      width: 32px;\n",
              "    }\n",
              "\n",
              "    .colab-df-convert:hover {\n",
              "      background-color: #E2EBFA;\n",
              "      box-shadow: 0px 1px 2px rgba(60, 64, 67, 0.3), 0px 1px 3px 1px rgba(60, 64, 67, 0.15);\n",
              "      fill: #174EA6;\n",
              "    }\n",
              "\n",
              "    [theme=dark] .colab-df-convert {\n",
              "      background-color: #3B4455;\n",
              "      fill: #D2E3FC;\n",
              "    }\n",
              "\n",
              "    [theme=dark] .colab-df-convert:hover {\n",
              "      background-color: #434B5C;\n",
              "      box-shadow: 0px 1px 3px 1px rgba(0, 0, 0, 0.15);\n",
              "      filter: drop-shadow(0px 1px 2px rgba(0, 0, 0, 0.3));\n",
              "      fill: #FFFFFF;\n",
              "    }\n",
              "  </style>\n",
              "\n",
              "      <script>\n",
              "        const buttonEl =\n",
              "          document.querySelector('#df-ee70dded-54b2-450e-9fb9-27d549216a8a button.colab-df-convert');\n",
              "        buttonEl.style.display =\n",
              "          google.colab.kernel.accessAllowed ? 'block' : 'none';\n",
              "\n",
              "        async function convertToInteractive(key) {\n",
              "          const element = document.querySelector('#df-ee70dded-54b2-450e-9fb9-27d549216a8a');\n",
              "          const dataTable =\n",
              "            await google.colab.kernel.invokeFunction('convertToInteractive',\n",
              "                                                     [key], {});\n",
              "          if (!dataTable) return;\n",
              "\n",
              "          const docLinkHtml = 'Like what you see? Visit the ' +\n",
              "            '<a target=\"_blank\" href=https://colab.research.google.com/notebooks/data_table.ipynb>data table notebook</a>'\n",
              "            + ' to learn more about interactive tables.';\n",
              "          element.innerHTML = '';\n",
              "          dataTable['output_type'] = 'display_data';\n",
              "          await google.colab.output.renderOutput(dataTable, element);\n",
              "          const docLink = document.createElement('div');\n",
              "          docLink.innerHTML = docLinkHtml;\n",
              "          element.appendChild(docLink);\n",
              "        }\n",
              "      </script>\n",
              "    </div>\n",
              "  </div>\n",
              "  "
            ]
          },
          "metadata": {},
          "execution_count": 41
        }
      ]
    },
    {
      "cell_type": "code",
      "source": [
        "print(raw_data.columns)"
      ],
      "metadata": {
        "colab": {
          "base_uri": "https://localhost:8080/"
        },
        "id": "zlux3Xtolryo",
        "outputId": "8f0427c7-ee2c-45ae-b8b6-2f6661d4e36a"
      },
      "execution_count": null,
      "outputs": [
        {
          "output_type": "stream",
          "name": "stdout",
          "text": [
            "Index(['x1', 'x2', 'x3', 'x4', 'x5', 'x6', 'x7'], dtype='object')\n"
          ]
        }
      ]
    },
    {
      "cell_type": "code",
      "source": [
        "from sklearn.preprocessing import MinMaxScaler\n",
        "scaler=MinMaxScaler()\n",
        "scaler.fit(raw_data)\n",
        "scaled_data = scaler.transform(raw_data)"
      ],
      "metadata": {
        "id": "p6o9s3MtqwU-"
      },
      "execution_count": null,
      "outputs": []
    },
    {
      "cell_type": "markdown",
      "source": [
        "Here we have Scaled the data using the MinMax scaler function and used the scaled data to train the PCA as below shown"
      ],
      "metadata": {
        "id": "_0OedY6pFgAj"
      }
    },
    {
      "cell_type": "code",
      "source": [
        "scaled_data"
      ],
      "metadata": {
        "colab": {
          "base_uri": "https://localhost:8080/"
        },
        "id": "scx-Mzoju7WI",
        "outputId": "2315fbbb-8773-4829-febc-8e3fa6575bb9"
      },
      "execution_count": null,
      "outputs": [
        {
          "output_type": "execute_result",
          "data": {
            "text/plain": [
              "array([[0.35455399, 0.49945005, 0.30938639, ..., 0.57501163, 0.6517943 ,\n",
              "        0.657051  ],\n",
              "       [0.54080391, 0.43299703, 0.44282344, ..., 0.5584146 , 0.56993324,\n",
              "        0.46894499],\n",
              "       [0.62507001, 0.43162939, 0.54971084, ..., 0.3802371 , 0.379837  ,\n",
              "        0.66022116],\n",
              "       ...,\n",
              "       [0.67966454, 0.39191843, 0.56962793, ..., 0.42295373, 0.37334909,\n",
              "        0.52341602],\n",
              "       [0.68530572, 0.31762467, 0.52006416, ..., 0.51551567, 0.45031264,\n",
              "        0.45487698],\n",
              "       [0.72908957, 0.29925142, 0.54466395, ..., 0.5338995 , 0.4514196 ,\n",
              "        0.42936078]])"
            ]
          },
          "metadata": {},
          "execution_count": 44
        }
      ]
    },
    {
      "cell_type": "markdown",
      "source": [
        "Performing the Data Visualizing using the distribution plot"
      ],
      "metadata": {
        "id": "InxyaZcBx1Yy"
      }
    },
    {
      "cell_type": "code",
      "source": [
        "for column in raw_data:\n",
        "  sns.displot(x=column, data=raw_data)"
      ],
      "metadata": {
        "colab": {
          "base_uri": "https://localhost:8080/",
          "height": 1000
        },
        "id": "TKMf5yLQxmEY",
        "outputId": "0f64e5e4-5039-46c4-a54d-690e1c494cc1"
      },
      "execution_count": null,
      "outputs": [
        {
          "output_type": "display_data",
          "data": {
            "text/plain": [
              "<Figure size 360x360 with 1 Axes>"
            ],
            "image/png": "[encoded data removed]"
          },
          "metadata": {
            "needs_background": "light"
          }
        },
        {
          "output_type": "display_data",
          "data": {
            "text/plain": [
              "<Figure size 360x360 with 1 Axes>"
            ],
            "image/png": "[encoded data removed]"
          },
          "metadata": {
            "needs_background": "light"
          }
        },
        {
          "output_type": "display_data",
          "data": {
            "text/plain": [
              "<Figure size 360x360 with 1 Axes>"
            ],
            "image/png": "[encoded data removed]"
          },
          "metadata": {
            "needs_background": "light"
          }
        },
        {
          "output_type": "display_data",
          "data": {
            "text/plain": [
              "<Figure size 360x360 with 1 Axes>"
            ],
            "image/png": "[encoded data removed]"
          },
          "metadata": {
            "needs_background": "light"
          }
        },
        {
          "output_type": "display_data",
          "data": {
            "text/plain": [
              "<Figure size 360x360 with 1 Axes>"
            ],
            "image/png": "[encoded data removed]"
          },
          "metadata": {
            "needs_background": "light"
          }
        },
        {
          "output_type": "display_data",
          "data": {
            "text/plain": [
              "<Figure size 360x360 with 1 Axes>"
            ],
            "image/png": "[encoded data removed]"
          },
          "metadata": {
            "needs_background": "light"
          }
        },
        {
          "output_type": "display_data",
          "data": {
            "text/plain": [
              "<Figure size 360x360 with 1 Axes>"
            ],
            "image/png": "[encoded data removed]"
          },
          "metadata": {
            "needs_background": "light"
          }
        }
      ]
    },
    {
      "cell_type": "markdown",
      "source": [
        "As we can see that the distribution plot for all the features of the data, it is clear that it is a normal distributed data and therefor we dont have to do the feature transformation and other stuff."
      ],
      "metadata": {
        "id": "x7J63RXtx8ZC"
      }
    },
    {
      "cell_type": "code",
      "source": [
        "from sklearn.decomposition import PCA\n",
        "pca = PCA()"
      ],
      "metadata": {
        "id": "G4VhwNlTvfeS"
      },
      "execution_count": null,
      "outputs": []
    },
    {
      "cell_type": "markdown",
      "source": [
        "Here we are training the PCA "
      ],
      "metadata": {
        "id": "CFyIotQ2FrZa"
      }
    },
    {
      "cell_type": "code",
      "source": [
        "pca.fit(scaled_data)"
      ],
      "metadata": {
        "colab": {
          "base_uri": "https://localhost:8080/"
        },
        "id": "U4uOhVRv0GeW",
        "outputId": "45050c0c-3774-417f-8541-c06884622ad9"
      },
      "execution_count": null,
      "outputs": [
        {
          "output_type": "execute_result",
          "data": {
            "text/plain": [
              "PCA()"
            ]
          },
          "metadata": {},
          "execution_count": 46
        }
      ]
    },
    {
      "cell_type": "code",
      "source": [
        "xpca = pca.transform(scaled_data)"
      ],
      "metadata": {
        "id": "uCTcVIub0RbZ"
      },
      "execution_count": null,
      "outputs": []
    },
    {
      "cell_type": "code",
      "source": [
        "scaled_data.shape"
      ],
      "metadata": {
        "colab": {
          "base_uri": "https://localhost:8080/"
        },
        "id": "u0sRu9rp0XIu",
        "outputId": "b3ea9e93-e6d2-4c8a-8c65-fbf004bc92ce"
      },
      "execution_count": null,
      "outputs": [
        {
          "output_type": "execute_result",
          "data": {
            "text/plain": [
              "(190, 7)"
            ]
          },
          "metadata": {},
          "execution_count": 48
        }
      ]
    },
    {
      "cell_type": "code",
      "source": [
        "xpca.shape"
      ],
      "metadata": {
        "colab": {
          "base_uri": "https://localhost:8080/"
        },
        "id": "9dCTI3KN0iNc",
        "outputId": "febe67f6-1d6a-4338-aa1e-7910de403eb4"
      },
      "execution_count": null,
      "outputs": [
        {
          "output_type": "execute_result",
          "data": {
            "text/plain": [
              "(190, 7)"
            ]
          },
          "metadata": {},
          "execution_count": 49
        }
      ]
    },
    {
      "cell_type": "code",
      "source": [
        "exp_var_pca = pca.explained_variance_ratio_\n",
        "print(exp_var_pca)"
      ],
      "metadata": {
        "colab": {
          "base_uri": "https://localhost:8080/"
        },
        "id": "0z61T6bJ2Uxh",
        "outputId": "4b664fb8-816e-47be-dfd8-a68a3f0a2523"
      },
      "execution_count": null,
      "outputs": [
        {
          "output_type": "stream",
          "name": "stdout",
          "text": [
            "[6.20498990e-01 3.11580884e-01 6.15365847e-02 6.14070319e-03\n",
            " 2.18099918e-04 2.08502487e-05 3.88741922e-06]\n"
          ]
        }
      ]
    },
    {
      "cell_type": "markdown",
      "source": [
        "The above shows the Explained variance ratio for each variable of the data which is nothing but the ratio of variance (eigenvalue / total eigenvalues) as asked in the assignment question."
      ],
      "metadata": {
        "id": "EnCAiN_pFyhh"
      }
    },
    {
      "cell_type": "code",
      "source": [
        "xpca"
      ],
      "metadata": {
        "colab": {
          "base_uri": "https://localhost:8080/"
        },
        "id": "7LmqLNbb0kK4",
        "outputId": "99eafc78-4be4-4442-d377-205de0ba9d3d"
      },
      "execution_count": null,
      "outputs": [
        {
          "output_type": "execute_result",
          "data": {
            "text/plain": [
              "array([[-3.07272032e-01,  1.45011651e-01, -3.00733496e-02, ...,\n",
              "        -9.17969209e-05, -2.39460853e-03, -1.64618276e-04],\n",
              "       [-5.11200393e-03, -6.01388548e-02,  1.03893707e-02, ...,\n",
              "         1.76163972e-03,  2.97043663e-03,  2.66589205e-03],\n",
              "       [ 1.89640670e-01,  1.41640599e-01, -2.00688819e-01, ...,\n",
              "         7.87530538e-03,  1.22487196e-04,  1.27765858e-03],\n",
              "       ...,\n",
              "       [ 2.77418877e-01, -1.14942199e-02, -1.36266874e-01, ...,\n",
              "         3.19906689e-03,  2.37547720e-03, -5.59445587e-05],\n",
              "       [ 1.80259995e-01, -1.44381527e-01, -1.22115030e-01, ...,\n",
              "         9.93486899e-03, -1.08589996e-03, -1.45386146e-04],\n",
              "       [ 2.25949628e-01, -1.95326206e-01, -1.15315384e-01, ...,\n",
              "        -1.15553851e-02, -7.78567201e-04,  1.40616646e-03]])"
            ]
          },
          "metadata": {},
          "execution_count": 51
        }
      ]
    },
    {
      "cell_type": "code",
      "source": [
        "# Cumulative sum of eigenvalues; This will be used to create step plot\n",
        "# for visualizing the variance explained by each principal component.\n",
        "cumsum = np.cumsum(exp_var_pca)\n",
        "# Creating the visualization plot\n",
        "plt.plot(range(0,len(cumsum)),cumsum,label='Cumulative explained variance')\n",
        "plt.ylabel('Explained variance ratio')\n",
        "plt.xlabel('Principal component index')\n",
        "plt.legend(loc='best')\n",
        "plt.tight_layout()\n",
        "plt.show()\n",
        "print(cumsum)"
      ],
      "metadata": {
        "colab": {
          "base_uri": "https://localhost:8080/",
          "height": 333
        },
        "id": "bN2T6Fbn1YGJ",
        "outputId": "6f1ce096-bcfe-4200-998b-75d6f0aef08d"
      },
      "execution_count": null,
      "outputs": [
        {
          "output_type": "display_data",
          "data": {
            "text/plain": [
              "<Figure size 432x288 with 1 Axes>"
            ],
            "image/png": "[encoded data removed]"
          },
          "metadata": {
            "needs_background": "light"
          }
        },
        {
          "output_type": "stream",
          "name": "stdout",
          "text": [
            "[0.62049899 0.93207987 0.99361646 0.99975716 0.99997526 0.99999611\n",
            " 1.        ]\n"
          ]
        }
      ]
    },
    {
      "cell_type": "code",
      "source": [
        "plt.bar(range(0,len(exp_var_pca)), exp_var_pca, alpha=0.5, align='center', label='Individual explained variance')\n",
        "plt.ylabel('Explained variance ratio')\n",
        "plt.xlabel('Principal component index')\n",
        "plt.legend(loc='best')\n",
        "plt.tight_layout()\n",
        "plt.show()"
      ],
      "metadata": {
        "colab": {
          "base_uri": "https://localhost:8080/",
          "height": 297
        },
        "id": "dL-p-TF8FVKC",
        "outputId": "de988014-64e5-4c97-952b-d98bca8ab599"
      },
      "execution_count": null,
      "outputs": [
        {
          "output_type": "display_data",
          "data": {
            "text/plain": [
              "<Figure size 432x288 with 1 Axes>"
            ],
            "image/png": "[encoded data removed]"
          },
          "metadata": {
            "needs_background": "light"
          }
        }
      ]
    },
    {
      "cell_type": "markdown",
      "source": [
        "Here,\n",
        "explained_variance_ratio_ method of PCA is used to get the ratio of variance (eigenvalue / total eigenvalues).\n",
        "\n",
        "Bar chart is used to represent individual explained variances.\n",
        "\n",
        "Step plot is used to represent the variance explained by different principal components.\n",
        "\n",
        "Data needs to be scaled before applying PCA technique."
      ],
      "metadata": {
        "id": "clEGzkJ690-p"
      }
    },
    {
      "cell_type": "markdown",
      "source": [
        "So as we can see that from the Individual Explained Variance, the individual features experienced variance is plotted and the first feature has almost more than 60% of variance and the next variable has 30% of variance and so on. So based on this we can take 3 or 4 components in PCA and train our model for the data which can be used for the required model."
      ],
      "metadata": {
        "id": "6HBqCB2MgHsN"
      }
    },
    {
      "cell_type": "markdown",
      "source": [
        "#Reconstructing the data with various numbers of PCA dimensions, and computing the MSE."
      ],
      "metadata": {
        "id": "Mm2HtGwoa7dv"
      }
    },
    {
      "cell_type": "code",
      "source": [
        "X_projected = pca.inverse_transform(xpca)"
      ],
      "metadata": {
        "id": "4aZjLX2KTYh3"
      },
      "execution_count": null,
      "outputs": []
    },
    {
      "cell_type": "code",
      "source": [
        "loss = np.sum((xpca - X_projected) ** 2, axis=1).mean()\n",
        "print(loss)"
      ],
      "metadata": {
        "colab": {
          "base_uri": "https://localhost:8080/"
        },
        "id": "JZe-UKOfTk8o",
        "outputId": "fcf00380-df09-4616-f32b-f12a0bf74431"
      },
      "execution_count": null,
      "outputs": [
        {
          "output_type": "stream",
          "name": "stdout",
          "text": [
            "2.0635619373665985\n"
          ]
        }
      ]
    },
    {
      "cell_type": "markdown",
      "source": [
        "As I have referred in the below references from the stack overflow platform, I used the concept from the platform and tried to apply here. So here the pca.inverse_transform obtains the projection onto components in signal space that we are interested in and the loss formula mentioned in the below cell gives the formula for the MSE loss. So based on that I'm getting the value of 2.06 as the loss."
      ],
      "metadata": {
        "id": "HiN4RWOjj4Yz"
      }
    },
    {
      "cell_type": "markdown",
      "source": [
        "#REFERENCES:\n",
        "\n",
        "This blog was refered to plot of Explained varinace and the PCA Dimensions https://vitalflux.com/pca-explained-variance-concept-python-example/#:~:text=Explained%20variance%20is%20calculated%20as,decomposition%20PCA%20class.\n",
        "\n",
        "https://towardsdatascience.com/principal-component-analysis-part-1-the-different-formulations-6508f63a5553#:~:text=In%20the%20Minimum%20Error%20Formulation,data%20points%20and%20their%20projection%20.\n",
        "\n",
        "This video was referred for understanding the PCA: https://www.youtube.com/watch?v=OFyyWcw2cyM\n",
        "\n",
        "https://yassineelkhal.medium.com/introduction-to-principal-component-analysis-pca-b918abb5c40e\n",
        "\n",
        "For the Loss- I have referred this post: https://stackoverflow.com/questions/36566844/pca-projection-and-reconstruction-in-scikit-learn"
      ],
      "metadata": {
        "id": "-ufbdUj69fBw"
      }
    }
  ]
}