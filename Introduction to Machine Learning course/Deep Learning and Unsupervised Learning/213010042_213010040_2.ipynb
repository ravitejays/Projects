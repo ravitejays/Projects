{
  "nbformat": 4,
  "nbformat_minor": 0,
  "metadata": {
    "colab": {
      "name": "2.ipynb",
      "provenance": [],
      "collapsed_sections": []
    },
    "kernelspec": {
      "name": "python3",
      "display_name": "Python 3"
    },
    "language_info": {
      "name": "python"
    }
  },
  "cells": [
    {
      "cell_type": "markdown",
      "source": [
        "#RAVITEJA Y S - 213010042\n",
        "#SHREYAS G S - 213010040"
      ],
      "metadata": {
        "id": "_NDaCFNOQuIH"
      }
    },
    {
      "cell_type": "markdown",
      "source": [
        "\n",
        "#**Clustering:** \n",
        "\n",
        "a) Visualize and pre-process the data as appropriate from the file DataClustering.csv. \n",
        "You might have to use a power, an exponential, or a log transformation.\n",
        "b) Train k-means, and find the appropriate number of k.\n",
        "c) Using the cluster assignment as the label, visualize the t-sne embedding.\n"
      ],
      "metadata": {
        "id": "-wg5rTa8OubW"
      }
    },
    {
      "cell_type": "code",
      "execution_count": null,
      "metadata": {
        "id": "086pa611T_TW"
      },
      "outputs": [],
      "source": [
        "import numpy as np\n",
        "from sklearn.cluster import KMeans\n",
        "import pandas as pd\n",
        "from sklearn.preprocessing import MinMaxScaler\n",
        "from matplotlib import pyplot as plt\n",
        "%matplotlib inline\n",
        "import seaborn as sns"
      ]
    },
    {
      "cell_type": "markdown",
      "source": [
        "We have imported the required libraries and now we will be\n",
        "Importing the Data Set Into Our Python Script"
      ],
      "metadata": {
        "id": "nP4V1auTWh-e"
      }
    },
    {
      "cell_type": "code",
      "source": [
        "raw_data = pd.read_csv('/content/DataClustering.csv')"
      ],
      "metadata": {
        "id": "kKaxfRrbUIYs"
      },
      "execution_count": null,
      "outputs": []
    },
    {
      "cell_type": "code",
      "source": [
        "raw_data"
      ],
      "metadata": {
        "colab": {
          "base_uri": "https://localhost:8080/",
          "height": 423
        },
        "id": "SBzW2QbfUc3a",
        "outputId": "48ba23c9-1516-4891-9088-4166bf01821a"
      },
      "execution_count": null,
      "outputs": [
        {
          "output_type": "execute_result",
          "data": {
            "text/plain": [
              "           x1        x2        x3        x4\n",
              "0    0.832354  1.389428  0.962226  0.993671\n",
              "1    1.256087  1.500487  0.904118  0.738035\n",
              "2    0.976953  1.058524  1.217530  1.357238\n",
              "3    1.014365  1.122684  1.195847  0.984144\n",
              "4    1.041386  1.219014  0.864819  1.720825\n",
              "..        ...       ...       ...       ...\n",
              "346  0.203877  0.195724  2.766999  1.826532\n",
              "347  0.229380  0.131514  0.704255  2.762919\n",
              "348  0.095878  0.107426  0.946789  3.434620\n",
              "349  0.111690  0.130970  1.098922  2.295701\n",
              "350  0.113965  0.283822  1.318260  1.494283\n",
              "\n",
              "[351 rows x 4 columns]"
            ],
            "text/html": [
              "\n",
              "  <div id=\"df-d1d88ac5-f735-46d1-a62e-dbed854933ba\">\n",
              "    <div class=\"colab-df-container\">\n",
              "      <div>\n",
              "<style scoped>\n",
              "    .dataframe tbody tr th:only-of-type {\n",
              "        vertical-align: middle;\n",
              "    }\n",
              "\n",
              "    .dataframe tbody tr th {\n",
              "        vertical-align: top;\n",
              "    }\n",
              "\n",
              "    .dataframe thead th {\n",
              "        text-align: right;\n",
              "    }\n",
              "</style>\n",
              "<table border=\"1\" class=\"dataframe\">\n",
              "  <thead>\n",
              "    <tr style=\"text-align: right;\">\n",
              "      <th></th>\n",
              "      <th>x1</th>\n",
              "      <th>x2</th>\n",
              "      <th>x3</th>\n",
              "      <th>x4</th>\n",
              "    </tr>\n",
              "  </thead>\n",
              "  <tbody>\n",
              "    <tr>\n",
              "      <th>0</th>\n",
              "      <td>0.832354</td>\n",
              "      <td>1.389428</td>\n",
              "      <td>0.962226</td>\n",
              "      <td>0.993671</td>\n",
              "    </tr>\n",
              "    <tr>\n",
              "      <th>1</th>\n",
              "      <td>1.256087</td>\n",
              "      <td>1.500487</td>\n",
              "      <td>0.904118</td>\n",
              "      <td>0.738035</td>\n",
              "    </tr>\n",
              "    <tr>\n",
              "      <th>2</th>\n",
              "      <td>0.976953</td>\n",
              "      <td>1.058524</td>\n",
              "      <td>1.217530</td>\n",
              "      <td>1.357238</td>\n",
              "    </tr>\n",
              "    <tr>\n",
              "      <th>3</th>\n",
              "      <td>1.014365</td>\n",
              "      <td>1.122684</td>\n",
              "      <td>1.195847</td>\n",
              "      <td>0.984144</td>\n",
              "    </tr>\n",
              "    <tr>\n",
              "      <th>4</th>\n",
              "      <td>1.041386</td>\n",
              "      <td>1.219014</td>\n",
              "      <td>0.864819</td>\n",
              "      <td>1.720825</td>\n",
              "    </tr>\n",
              "    <tr>\n",
              "      <th>...</th>\n",
              "      <td>...</td>\n",
              "      <td>...</td>\n",
              "      <td>...</td>\n",
              "      <td>...</td>\n",
              "    </tr>\n",
              "    <tr>\n",
              "      <th>346</th>\n",
              "      <td>0.203877</td>\n",
              "      <td>0.195724</td>\n",
              "      <td>2.766999</td>\n",
              "      <td>1.826532</td>\n",
              "    </tr>\n",
              "    <tr>\n",
              "      <th>347</th>\n",
              "      <td>0.229380</td>\n",
              "      <td>0.131514</td>\n",
              "      <td>0.704255</td>\n",
              "      <td>2.762919</td>\n",
              "    </tr>\n",
              "    <tr>\n",
              "      <th>348</th>\n",
              "      <td>0.095878</td>\n",
              "      <td>0.107426</td>\n",
              "      <td>0.946789</td>\n",
              "      <td>3.434620</td>\n",
              "    </tr>\n",
              "    <tr>\n",
              "      <th>349</th>\n",
              "      <td>0.111690</td>\n",
              "      <td>0.130970</td>\n",
              "      <td>1.098922</td>\n",
              "      <td>2.295701</td>\n",
              "    </tr>\n",
              "    <tr>\n",
              "      <th>350</th>\n",
              "      <td>0.113965</td>\n",
              "      <td>0.283822</td>\n",
              "      <td>1.318260</td>\n",
              "      <td>1.494283</td>\n",
              "    </tr>\n",
              "  </tbody>\n",
              "</table>\n",
              "<p>351 rows × 4 columns</p>\n",
              "</div>\n",
              "      <button class=\"colab-df-convert\" onclick=\"convertToInteractive('df-d1d88ac5-f735-46d1-a62e-dbed854933ba')\"\n",
              "              title=\"Convert this dataframe to an interactive table.\"\n",
              "              style=\"display:none;\">\n",
              "        \n",
              "  <svg xmlns=\"http://www.w3.org/2000/svg\" height=\"24px\"viewBox=\"0 0 24 24\"\n",
              "       width=\"24px\">\n",
              "    <path d=\"M0 0h24v24H0V0z\" fill=\"none\"/>\n",
              "    <path d=\"M18.56 5.44l.94 2.06.94-2.06 2.06-.94-2.06-.94-.94-2.06-.94 2.06-2.06.94zm-11 1L8.5 8.5l.94-2.06 2.06-.94-2.06-.94L8.5 2.5l-.94 2.06-2.06.94zm10 10l.94 2.06.94-2.06 2.06-.94-2.06-.94-.94-2.06-.94 2.06-2.06.94z\"/><path d=\"M17.41 7.96l-1.37-1.37c-.4-.4-.92-.59-1.43-.59-.52 0-1.04.2-1.43.59L10.3 9.45l-7.72 7.72c-.78.78-.78 2.05 0 2.83L4 21.41c.39.39.9.59 1.41.59.51 0 1.02-.2 1.41-.59l7.78-7.78 2.81-2.81c.8-.78.8-2.07 0-2.86zM5.41 20L4 18.59l7.72-7.72 1.47 1.35L5.41 20z\"/>\n",
              "  </svg>\n",
              "      </button>\n",
              "      \n",
              "  <style>\n",
              "    .colab-df-container {\n",
              "      display:flex;\n",
              "      flex-wrap:wrap;\n",
              "      gap: 12px;\n",
              "    }\n",
              "\n",
              "    .colab-df-convert {\n",
              "      background-color: #E8F0FE;\n",
              "      border: none;\n",
              "      border-radius: 50%;\n",
              "      cursor: pointer;\n",
              "      display: none;\n",
              "      fill: #1967D2;\n",
              "      height: 32px;\n",
              "      padding: 0 0 0 0;\n",
              "      width: 32px;\n",
              "    }\n",
              "\n",
              "    .colab-df-convert:hover {\n",
              "      background-color: #E2EBFA;\n",
              "      box-shadow: 0px 1px 2px rgba(60, 64, 67, 0.3), 0px 1px 3px 1px rgba(60, 64, 67, 0.15);\n",
              "      fill: #174EA6;\n",
              "    }\n",
              "\n",
              "    [theme=dark] .colab-df-convert {\n",
              "      background-color: #3B4455;\n",
              "      fill: #D2E3FC;\n",
              "    }\n",
              "\n",
              "    [theme=dark] .colab-df-convert:hover {\n",
              "      background-color: #434B5C;\n",
              "      box-shadow: 0px 1px 3px 1px rgba(0, 0, 0, 0.15);\n",
              "      filter: drop-shadow(0px 1px 2px rgba(0, 0, 0, 0.3));\n",
              "      fill: #FFFFFF;\n",
              "    }\n",
              "  </style>\n",
              "\n",
              "      <script>\n",
              "        const buttonEl =\n",
              "          document.querySelector('#df-d1d88ac5-f735-46d1-a62e-dbed854933ba button.colab-df-convert');\n",
              "        buttonEl.style.display =\n",
              "          google.colab.kernel.accessAllowed ? 'block' : 'none';\n",
              "\n",
              "        async function convertToInteractive(key) {\n",
              "          const element = document.querySelector('#df-d1d88ac5-f735-46d1-a62e-dbed854933ba');\n",
              "          const dataTable =\n",
              "            await google.colab.kernel.invokeFunction('convertToInteractive',\n",
              "                                                     [key], {});\n",
              "          if (!dataTable) return;\n",
              "\n",
              "          const docLinkHtml = 'Like what you see? Visit the ' +\n",
              "            '<a target=\"_blank\" href=https://colab.research.google.com/notebooks/data_table.ipynb>data table notebook</a>'\n",
              "            + ' to learn more about interactive tables.';\n",
              "          element.innerHTML = '';\n",
              "          dataTable['output_type'] = 'display_data';\n",
              "          await google.colab.output.renderOutput(dataTable, element);\n",
              "          const docLink = document.createElement('div');\n",
              "          docLink.innerHTML = docLinkHtml;\n",
              "          element.appendChild(docLink);\n",
              "        }\n",
              "      </script>\n",
              "    </div>\n",
              "  </div>\n",
              "  "
            ]
          },
          "metadata": {},
          "execution_count": 6
        }
      ]
    },
    {
      "cell_type": "code",
      "source": [
        "print(raw_data.columns)"
      ],
      "metadata": {
        "colab": {
          "base_uri": "https://localhost:8080/"
        },
        "id": "mJFTswyCWwDo",
        "outputId": "8895448d-d57a-4fb4-cdd4-f13cb07d64f8"
      },
      "execution_count": null,
      "outputs": [
        {
          "output_type": "stream",
          "name": "stdout",
          "text": [
            "Index(['x1', 'x2', 'x3', 'x4'], dtype='object')\n"
          ]
        }
      ]
    },
    {
      "cell_type": "markdown",
      "source": [
        "Since this is a clustered data set, we have no idea what any of these columns means. For now, it is sufficient to recognize that every column is numerical in nature and thus well-suited for modelling with machine learning techniques."
      ],
      "metadata": {
        "id": "JBL5nwKAWydn"
      }
    },
    {
      "cell_type": "code",
      "source": [
        "plt.scatter(raw_data['x1'],raw_data['x2'],raw_data['x3'],raw_data['x4'])"
      ],
      "metadata": {
        "colab": {
          "base_uri": "https://localhost:8080/",
          "height": 284
        },
        "id": "MB3fimhsh3mW",
        "outputId": "72815110-46fd-48b1-88c9-076f85ba1dcb"
      },
      "execution_count": null,
      "outputs": [
        {
          "output_type": "execute_result",
          "data": {
            "text/plain": [
              "<matplotlib.collections.PathCollection at 0x7f9610109fd0>"
            ]
          },
          "metadata": {},
          "execution_count": 8
        },
        {
          "output_type": "display_data",
          "data": {
            "text/plain": [
              "<Figure size 432x288 with 1 Axes>"
            ],
            "image/png": "[encoded data removed]"
          },
          "metadata": {
            "needs_background": "light"
          }
        }
      ]
    },
    {
      "cell_type": "code",
      "source": [
        "for column in raw_data:\n",
        "  sns.displot(x=column, data=raw_data)"
      ],
      "metadata": {
        "colab": {
          "base_uri": "https://localhost:8080/",
          "height": 1000
        },
        "id": "i1Uf2RyqdEgZ",
        "outputId": "f1f4b230-0e15-41fe-b92b-959f2296b2a2"
      },
      "execution_count": null,
      "outputs": [
        {
          "output_type": "display_data",
          "data": {
            "text/plain": [
              "<Figure size 360x360 with 1 Axes>"
            ],
            "image/png": "[encoded data removed]"
          },
          "metadata": {
            "needs_background": "light"
          }
        },
        {
          "output_type": "display_data",
          "data": {
            "text/plain": [
              "<Figure size 360x360 with 1 Axes>"
            ],
            "image/png": "[encoded data removed]"
          },
          "metadata": {
            "needs_background": "light"
          }
        },
        {
          "output_type": "display_data",
          "data": {
            "text/plain": [
              "<Figure size 360x360 with 1 Axes>"
            ],
            "image/png": "[encoded data removed]"
          },
          "metadata": {
            "needs_background": "light"
          }
        },
        {
          "output_type": "display_data",
          "data": {
            "text/plain": [
              "<Figure size 360x360 with 1 Axes>"
            ],
            "image/png": "[encoded data removed]"
          },
          "metadata": {
            "needs_background": "light"
          }
        }
      ]
    },
    {
      "cell_type": "markdown",
      "source": [
        "As we can see that its a positive skewed data and have to convert it into the normal distributed data. We can do that by using the log transformation."
      ],
      "metadata": {
        "id": "9wjiNz8mei4x"
      }
    },
    {
      "cell_type": "markdown",
      "source": [
        "#Performing the log trnsformation to convert the positive skewed data to normal distributed data"
      ],
      "metadata": {
        "id": "DjECUv5IPGVV"
      }
    },
    {
      "cell_type": "code",
      "source": [
        "inp_data = raw_data"
      ],
      "metadata": {
        "id": "QdlpsG3KevqA"
      },
      "execution_count": null,
      "outputs": []
    },
    {
      "cell_type": "code",
      "source": [
        "out_data = np.log10(inp_data)\n",
        "out_data"
      ],
      "metadata": {
        "colab": {
          "base_uri": "https://localhost:8080/",
          "height": 423
        },
        "id": "y1oFlS8le0U5",
        "outputId": "b0e3c987-be33-4379-a2e3-b4b738d94390"
      },
      "execution_count": null,
      "outputs": [
        {
          "output_type": "execute_result",
          "data": {
            "text/plain": [
              "           x1        x2        x3        x4\n",
              "0   -0.079692  0.142836 -0.016723 -0.002757\n",
              "1    0.099020  0.176232 -0.043775 -0.131923\n",
              "2   -0.010126  0.024701  0.085480  0.132656\n",
              "3    0.006194  0.050257  0.077675 -0.006941\n",
              "4    0.017612  0.086009 -0.063075  0.235737\n",
              "..        ...       ...       ...       ...\n",
              "346 -0.690632 -0.708356  0.442009  0.261627\n",
              "347 -0.639444 -0.881028 -0.152270  0.441368\n",
              "348 -1.018283 -0.968889 -0.023747  0.535879\n",
              "349 -0.951987 -0.882830  0.040967  0.360915\n",
              "350 -0.943230 -0.546954  0.120001  0.174433\n",
              "\n",
              "[351 rows x 4 columns]"
            ],
            "text/html": [
              "\n",
              "  <div id=\"df-434cb3e3-8e7c-4b44-9718-276decf17aa2\">\n",
              "    <div class=\"colab-df-container\">\n",
              "      <div>\n",
              "<style scoped>\n",
              "    .dataframe tbody tr th:only-of-type {\n",
              "        vertical-align: middle;\n",
              "    }\n",
              "\n",
              "    .dataframe tbody tr th {\n",
              "        vertical-align: top;\n",
              "    }\n",
              "\n",
              "    .dataframe thead th {\n",
              "        text-align: right;\n",
              "    }\n",
              "</style>\n",
              "<table border=\"1\" class=\"dataframe\">\n",
              "  <thead>\n",
              "    <tr style=\"text-align: right;\">\n",
              "      <th></th>\n",
              "      <th>x1</th>\n",
              "      <th>x2</th>\n",
              "      <th>x3</th>\n",
              "      <th>x4</th>\n",
              "    </tr>\n",
              "  </thead>\n",
              "  <tbody>\n",
              "    <tr>\n",
              "      <th>0</th>\n",
              "      <td>-0.079692</td>\n",
              "      <td>0.142836</td>\n",
              "      <td>-0.016723</td>\n",
              "      <td>-0.002757</td>\n",
              "    </tr>\n",
              "    <tr>\n",
              "      <th>1</th>\n",
              "      <td>0.099020</td>\n",
              "      <td>0.176232</td>\n",
              "      <td>-0.043775</td>\n",
              "      <td>-0.131923</td>\n",
              "    </tr>\n",
              "    <tr>\n",
              "      <th>2</th>\n",
              "      <td>-0.010126</td>\n",
              "      <td>0.024701</td>\n",
              "      <td>0.085480</td>\n",
              "      <td>0.132656</td>\n",
              "    </tr>\n",
              "    <tr>\n",
              "      <th>3</th>\n",
              "      <td>0.006194</td>\n",
              "      <td>0.050257</td>\n",
              "      <td>0.077675</td>\n",
              "      <td>-0.006941</td>\n",
              "    </tr>\n",
              "    <tr>\n",
              "      <th>4</th>\n",
              "      <td>0.017612</td>\n",
              "      <td>0.086009</td>\n",
              "      <td>-0.063075</td>\n",
              "      <td>0.235737</td>\n",
              "    </tr>\n",
              "    <tr>\n",
              "      <th>...</th>\n",
              "      <td>...</td>\n",
              "      <td>...</td>\n",
              "      <td>...</td>\n",
              "      <td>...</td>\n",
              "    </tr>\n",
              "    <tr>\n",
              "      <th>346</th>\n",
              "      <td>-0.690632</td>\n",
              "      <td>-0.708356</td>\n",
              "      <td>0.442009</td>\n",
              "      <td>0.261627</td>\n",
              "    </tr>\n",
              "    <tr>\n",
              "      <th>347</th>\n",
              "      <td>-0.639444</td>\n",
              "      <td>-0.881028</td>\n",
              "      <td>-0.152270</td>\n",
              "      <td>0.441368</td>\n",
              "    </tr>\n",
              "    <tr>\n",
              "      <th>348</th>\n",
              "      <td>-1.018283</td>\n",
              "      <td>-0.968889</td>\n",
              "      <td>-0.023747</td>\n",
              "      <td>0.535879</td>\n",
              "    </tr>\n",
              "    <tr>\n",
              "      <th>349</th>\n",
              "      <td>-0.951987</td>\n",
              "      <td>-0.882830</td>\n",
              "      <td>0.040967</td>\n",
              "      <td>0.360915</td>\n",
              "    </tr>\n",
              "    <tr>\n",
              "      <th>350</th>\n",
              "      <td>-0.943230</td>\n",
              "      <td>-0.546954</td>\n",
              "      <td>0.120001</td>\n",
              "      <td>0.174433</td>\n",
              "    </tr>\n",
              "  </tbody>\n",
              "</table>\n",
              "<p>351 rows × 4 columns</p>\n",
              "</div>\n",
              "      <button class=\"colab-df-convert\" onclick=\"convertToInteractive('df-434cb3e3-8e7c-4b44-9718-276decf17aa2')\"\n",
              "              title=\"Convert this dataframe to an interactive table.\"\n",
              "              style=\"display:none;\">\n",
              "        \n",
              "  <svg xmlns=\"http://www.w3.org/2000/svg\" height=\"24px\"viewBox=\"0 0 24 24\"\n",
              "       width=\"24px\">\n",
              "    <path d=\"M0 0h24v24H0V0z\" fill=\"none\"/>\n",
              "    <path d=\"M18.56 5.44l.94 2.06.94-2.06 2.06-.94-2.06-.94-.94-2.06-.94 2.06-2.06.94zm-11 1L8.5 8.5l.94-2.06 2.06-.94-2.06-.94L8.5 2.5l-.94 2.06-2.06.94zm10 10l.94 2.06.94-2.06 2.06-.94-2.06-.94-.94-2.06-.94 2.06-2.06.94z\"/><path d=\"M17.41 7.96l-1.37-1.37c-.4-.4-.92-.59-1.43-.59-.52 0-1.04.2-1.43.59L10.3 9.45l-7.72 7.72c-.78.78-.78 2.05 0 2.83L4 21.41c.39.39.9.59 1.41.59.51 0 1.02-.2 1.41-.59l7.78-7.78 2.81-2.81c.8-.78.8-2.07 0-2.86zM5.41 20L4 18.59l7.72-7.72 1.47 1.35L5.41 20z\"/>\n",
              "  </svg>\n",
              "      </button>\n",
              "      \n",
              "  <style>\n",
              "    .colab-df-container {\n",
              "      display:flex;\n",
              "      flex-wrap:wrap;\n",
              "      gap: 12px;\n",
              "    }\n",
              "\n",
              "    .colab-df-convert {\n",
              "      background-color: #E8F0FE;\n",
              "      border: none;\n",
              "      border-radius: 50%;\n",
              "      cursor: pointer;\n",
              "      display: none;\n",
              "      fill: #1967D2;\n",
              "      height: 32px;\n",
              "      padding: 0 0 0 0;\n",
              "      width: 32px;\n",
              "    }\n",
              "\n",
              "    .colab-df-convert:hover {\n",
              "      background-color: #E2EBFA;\n",
              "      box-shadow: 0px 1px 2px rgba(60, 64, 67, 0.3), 0px 1px 3px 1px rgba(60, 64, 67, 0.15);\n",
              "      fill: #174EA6;\n",
              "    }\n",
              "\n",
              "    [theme=dark] .colab-df-convert {\n",
              "      background-color: #3B4455;\n",
              "      fill: #D2E3FC;\n",
              "    }\n",
              "\n",
              "    [theme=dark] .colab-df-convert:hover {\n",
              "      background-color: #434B5C;\n",
              "      box-shadow: 0px 1px 3px 1px rgba(0, 0, 0, 0.15);\n",
              "      filter: drop-shadow(0px 1px 2px rgba(0, 0, 0, 0.3));\n",
              "      fill: #FFFFFF;\n",
              "    }\n",
              "  </style>\n",
              "\n",
              "      <script>\n",
              "        const buttonEl =\n",
              "          document.querySelector('#df-434cb3e3-8e7c-4b44-9718-276decf17aa2 button.colab-df-convert');\n",
              "        buttonEl.style.display =\n",
              "          google.colab.kernel.accessAllowed ? 'block' : 'none';\n",
              "\n",
              "        async function convertToInteractive(key) {\n",
              "          const element = document.querySelector('#df-434cb3e3-8e7c-4b44-9718-276decf17aa2');\n",
              "          const dataTable =\n",
              "            await google.colab.kernel.invokeFunction('convertToInteractive',\n",
              "                                                     [key], {});\n",
              "          if (!dataTable) return;\n",
              "\n",
              "          const docLinkHtml = 'Like what you see? Visit the ' +\n",
              "            '<a target=\"_blank\" href=https://colab.research.google.com/notebooks/data_table.ipynb>data table notebook</a>'\n",
              "            + ' to learn more about interactive tables.';\n",
              "          element.innerHTML = '';\n",
              "          dataTable['output_type'] = 'display_data';\n",
              "          await google.colab.output.renderOutput(dataTable, element);\n",
              "          const docLink = document.createElement('div');\n",
              "          docLink.innerHTML = docLinkHtml;\n",
              "          element.appendChild(docLink);\n",
              "        }\n",
              "      </script>\n",
              "    </div>\n",
              "  </div>\n",
              "  "
            ]
          },
          "metadata": {},
          "execution_count": 11
        }
      ]
    },
    {
      "cell_type": "code",
      "source": [
        "for column in out_data:\n",
        "  sns.displot(x=column, data=out_data)"
      ],
      "metadata": {
        "colab": {
          "base_uri": "https://localhost:8080/",
          "height": 1000
        },
        "id": "kPrm5BD9fLja",
        "outputId": "7005b7b6-7b01-4497-a9c0-d25cf4365094"
      },
      "execution_count": null,
      "outputs": [
        {
          "output_type": "display_data",
          "data": {
            "text/plain": [
              "<Figure size 360x360 with 1 Axes>"
            ],
            "image/png": "[encoded data removed]"
          },
          "metadata": {
            "needs_background": "light"
          }
        },
        {
          "output_type": "display_data",
          "data": {
            "text/plain": [
              "<Figure size 360x360 with 1 Axes>"
            ],
            "image/png": "[encoded data removed]"
          },
          "metadata": {
            "needs_background": "light"
          }
        },
        {
          "output_type": "display_data",
          "data": {
            "text/plain": [
              "<Figure size 360x360 with 1 Axes>"
            ],
            "image/png": "[encoded data removed]"
          },
          "metadata": {
            "needs_background": "light"
          }
        },
        {
          "output_type": "display_data",
          "data": {
            "text/plain": [
              "<Figure size 360x360 with 1 Axes>"
            ],
            "image/png": "[encoded data removed]"
          },
          "metadata": {
            "needs_background": "light"
          }
        }
      ]
    },
    {
      "cell_type": "markdown",
      "source": [
        "As now we can see that the data has been converted into a normal distributed data from the positive skewed data using the log transformation as we can see from the plots."
      ],
      "metadata": {
        "id": "JAmZmXw5geli"
      }
    },
    {
      "cell_type": "code",
      "source": [
        "plt.scatter(out_data['x1'],out_data['x2'],out_data['x3'],out_data['x4'])"
      ],
      "metadata": {
        "colab": {
          "base_uri": "https://localhost:8080/",
          "height": 320
        },
        "id": "mG5q8t6RXThg",
        "outputId": "68461501-443a-4dbe-e272-cbf761609791"
      },
      "execution_count": null,
      "outputs": [
        {
          "output_type": "stream",
          "name": "stderr",
          "text": [
            "/usr/local/lib/python3.7/dist-packages/matplotlib/collections.py:885: RuntimeWarning: invalid value encountered in sqrt\n",
            "  scale = np.sqrt(self._sizes) * dpi / 72.0 * self._factor\n"
          ]
        },
        {
          "output_type": "execute_result",
          "data": {
            "text/plain": [
              "<matplotlib.collections.PathCollection at 0x7f960cce2dd0>"
            ]
          },
          "metadata": {},
          "execution_count": 13
        },
        {
          "output_type": "display_data",
          "data": {
            "text/plain": [
              "<Figure size 432x288 with 1 Axes>"
            ],
            "image/png": "[encoded data removed]"
          },
          "metadata": {
            "needs_background": "light"
          }
        }
      ]
    },
    {
      "cell_type": "markdown",
      "source": [
        "As we can compare the scatter plot of the raw data and the out_data, after performing the log transformations the data is properly normal distributed and we can use this data to perform the futher TRAINING of the k-means"
      ],
      "metadata": {
        "id": "h45GoNtgiAxm"
      }
    },
    {
      "cell_type": "code",
      "source": [
        "scaler = MinMaxScaler()\n",
        "scaler.fit(out_data[['x1']])\n",
        "out_data['x1'] = scaler.transform(out_data[['x1']])\n",
        "\n",
        "scaler.fit(out_data[['x2']])\n",
        "out_data['x2'] = scaler.transform(out_data[['x2']])\n",
        "\n",
        "scaler.fit(out_data[['x3']])\n",
        "out_data['x3'] = scaler.transform(out_data[['x3']])\n",
        "\n",
        "scaler.fit(out_data[['x4']])\n",
        "out_data['x4'] = scaler.transform(out_data[['x4']])"
      ],
      "metadata": {
        "id": "RrqB1n7Rg_-M"
      },
      "execution_count": null,
      "outputs": []
    },
    {
      "cell_type": "markdown",
      "source": [
        "#Now we are gonna train K-means"
      ],
      "metadata": {
        "id": "_CcbxnAxdyyz"
      }
    },
    {
      "cell_type": "code",
      "source": [
        "km = KMeans()\n",
        "y_predicted = km.fit_predict(out_data[['x1','x2','x3','x4']])\n",
        "y_predicted"
      ],
      "metadata": {
        "colab": {
          "base_uri": "https://localhost:8080/"
        },
        "id": "aRnaI8oGUd3Q",
        "outputId": "35c6a938-1167-4cad-9850-ec116f978a47"
      },
      "execution_count": null,
      "outputs": [
        {
          "output_type": "execute_result",
          "data": {
            "text/plain": [
              "array([2, 2, 2, 2, 2, 2, 2, 2, 2, 2, 2, 2, 2, 2, 2, 2, 2, 2, 2, 2, 2, 2,\n",
              "       2, 2, 2, 2, 2, 2, 2, 2, 2, 2, 2, 2, 2, 2, 2, 2, 2, 2, 2, 2, 2, 2,\n",
              "       2, 2, 2, 2, 2, 2, 2, 2, 2, 1, 7, 1, 1, 7, 1, 1, 1, 7, 1, 7, 7, 7,\n",
              "       7, 7, 7, 1, 1, 7, 1, 1, 7, 7, 1, 7, 7, 0, 7, 1, 7, 7, 7, 1, 2, 7,\n",
              "       7, 1, 7, 1, 7, 1, 7, 1, 7, 7, 7, 7, 7, 1, 7, 7, 7, 7, 1, 7, 7, 1,\n",
              "       7, 7, 1, 7, 1, 7, 1, 7, 1, 7, 1, 7, 3, 5, 3, 3, 3, 3, 0, 3, 3, 3,\n",
              "       3, 3, 5, 3, 3, 0, 3, 3, 3, 5, 3, 3, 5, 3, 0, 3, 3, 4, 3, 3, 5, 3,\n",
              "       3, 3, 5, 3, 3, 3, 3, 3, 0, 4, 3, 5, 0, 3, 3, 3, 3, 3, 0, 3, 0, 5,\n",
              "       5, 3, 3, 3, 0, 0, 3, 6, 3, 3, 3, 3, 3, 3, 3, 3, 0, 0, 3, 3, 3, 0,\n",
              "       3, 3, 0, 0, 5, 3, 3, 3, 3, 3, 4, 3, 5, 3, 4, 4, 4, 4, 4, 4, 4, 4,\n",
              "       4, 4, 5, 4, 4, 4, 4, 4, 5, 5, 4, 4, 4, 4, 4, 4, 4, 4, 4, 4, 4, 3,\n",
              "       4, 4, 4, 4, 4, 4, 4, 4, 4, 4, 4, 5, 4, 4, 4, 4, 4, 5, 4, 4, 0, 6,\n",
              "       0, 5, 6, 6, 0, 6, 6, 0, 5, 6, 6, 5, 0, 6, 6, 0, 0, 6, 6, 6, 6, 5,\n",
              "       5, 0, 6, 0, 5, 6, 6, 5, 6, 6, 6, 5, 6, 5, 5, 5, 6, 6, 6, 0, 6, 0,\n",
              "       6, 0, 6, 5, 0, 0, 0, 6, 6, 6, 6, 6, 6, 6, 6, 5, 6, 3, 0, 5, 5, 6,\n",
              "       6, 0, 6, 5, 0, 6, 0, 6, 6, 6, 6, 6, 5, 6, 0, 6, 0, 6, 6, 6, 0],\n",
              "      dtype=int32)"
            ]
          },
          "metadata": {},
          "execution_count": 15
        }
      ]
    },
    {
      "cell_type": "code",
      "source": [
        "out_data['cluster'] = y_predicted\n",
        "out_data"
      ],
      "metadata": {
        "colab": {
          "base_uri": "https://localhost:8080/",
          "height": 423
        },
        "id": "sr7xekTXahyS",
        "outputId": "b18d1b25-8cd1-4d0a-b845-907e65a6a409"
      },
      "execution_count": null,
      "outputs": [
        {
          "output_type": "execute_result",
          "data": {
            "text/plain": [
              "           x1        x2        x3        x4  cluster\n",
              "0    0.760403  0.854232  0.271967  0.414538        2\n",
              "1    0.870559  0.873632  0.254356  0.329642        2\n",
              "2    0.803283  0.785607  0.338502  0.503540        2\n",
              "3    0.813342  0.800453  0.333421  0.411788        2\n",
              "4    0.820380  0.821221  0.241792  0.571291        2\n",
              "..        ...       ...       ...       ...      ...\n",
              "346  0.383825  0.359775  0.570605  0.588308        0\n",
              "347  0.415377  0.259471  0.183725  0.706445        6\n",
              "348  0.181864  0.208432  0.267394  0.768563        6\n",
              "349  0.222729  0.258424  0.309523  0.653566        6\n",
              "350  0.228126  0.453534  0.360975  0.530998        0\n",
              "\n",
              "[351 rows x 5 columns]"
            ],
            "text/html": [
              "\n",
              "  <div id=\"df-328493d3-9c68-42fe-98bb-19f963fafe6b\">\n",
              "    <div class=\"colab-df-container\">\n",
              "      <div>\n",
              "<style scoped>\n",
              "    .dataframe tbody tr th:only-of-type {\n",
              "        vertical-align: middle;\n",
              "    }\n",
              "\n",
              "    .dataframe tbody tr th {\n",
              "        vertical-align: top;\n",
              "    }\n",
              "\n",
              "    .dataframe thead th {\n",
              "        text-align: right;\n",
              "    }\n",
              "</style>\n",
              "<table border=\"1\" class=\"dataframe\">\n",
              "  <thead>\n",
              "    <tr style=\"text-align: right;\">\n",
              "      <th></th>\n",
              "      <th>x1</th>\n",
              "      <th>x2</th>\n",
              "      <th>x3</th>\n",
              "      <th>x4</th>\n",
              "      <th>cluster</th>\n",
              "    </tr>\n",
              "  </thead>\n",
              "  <tbody>\n",
              "    <tr>\n",
              "      <th>0</th>\n",
              "      <td>0.760403</td>\n",
              "      <td>0.854232</td>\n",
              "      <td>0.271967</td>\n",
              "      <td>0.414538</td>\n",
              "      <td>2</td>\n",
              "    </tr>\n",
              "    <tr>\n",
              "      <th>1</th>\n",
              "      <td>0.870559</td>\n",
              "      <td>0.873632</td>\n",
              "      <td>0.254356</td>\n",
              "      <td>0.329642</td>\n",
              "      <td>2</td>\n",
              "    </tr>\n",
              "    <tr>\n",
              "      <th>2</th>\n",
              "      <td>0.803283</td>\n",
              "      <td>0.785607</td>\n",
              "      <td>0.338502</td>\n",
              "      <td>0.503540</td>\n",
              "      <td>2</td>\n",
              "    </tr>\n",
              "    <tr>\n",
              "      <th>3</th>\n",
              "      <td>0.813342</td>\n",
              "      <td>0.800453</td>\n",
              "      <td>0.333421</td>\n",
              "      <td>0.411788</td>\n",
              "      <td>2</td>\n",
              "    </tr>\n",
              "    <tr>\n",
              "      <th>4</th>\n",
              "      <td>0.820380</td>\n",
              "      <td>0.821221</td>\n",
              "      <td>0.241792</td>\n",
              "      <td>0.571291</td>\n",
              "      <td>2</td>\n",
              "    </tr>\n",
              "    <tr>\n",
              "      <th>...</th>\n",
              "      <td>...</td>\n",
              "      <td>...</td>\n",
              "      <td>...</td>\n",
              "      <td>...</td>\n",
              "      <td>...</td>\n",
              "    </tr>\n",
              "    <tr>\n",
              "      <th>346</th>\n",
              "      <td>0.383825</td>\n",
              "      <td>0.359775</td>\n",
              "      <td>0.570605</td>\n",
              "      <td>0.588308</td>\n",
              "      <td>0</td>\n",
              "    </tr>\n",
              "    <tr>\n",
              "      <th>347</th>\n",
              "      <td>0.415377</td>\n",
              "      <td>0.259471</td>\n",
              "      <td>0.183725</td>\n",
              "      <td>0.706445</td>\n",
              "      <td>6</td>\n",
              "    </tr>\n",
              "    <tr>\n",
              "      <th>348</th>\n",
              "      <td>0.181864</td>\n",
              "      <td>0.208432</td>\n",
              "      <td>0.267394</td>\n",
              "      <td>0.768563</td>\n",
              "      <td>6</td>\n",
              "    </tr>\n",
              "    <tr>\n",
              "      <th>349</th>\n",
              "      <td>0.222729</td>\n",
              "      <td>0.258424</td>\n",
              "      <td>0.309523</td>\n",
              "      <td>0.653566</td>\n",
              "      <td>6</td>\n",
              "    </tr>\n",
              "    <tr>\n",
              "      <th>350</th>\n",
              "      <td>0.228126</td>\n",
              "      <td>0.453534</td>\n",
              "      <td>0.360975</td>\n",
              "      <td>0.530998</td>\n",
              "      <td>0</td>\n",
              "    </tr>\n",
              "  </tbody>\n",
              "</table>\n",
              "<p>351 rows × 5 columns</p>\n",
              "</div>\n",
              "      <button class=\"colab-df-convert\" onclick=\"convertToInteractive('df-328493d3-9c68-42fe-98bb-19f963fafe6b')\"\n",
              "              title=\"Convert this dataframe to an interactive table.\"\n",
              "              style=\"display:none;\">\n",
              "        \n",
              "  <svg xmlns=\"http://www.w3.org/2000/svg\" height=\"24px\"viewBox=\"0 0 24 24\"\n",
              "       width=\"24px\">\n",
              "    <path d=\"M0 0h24v24H0V0z\" fill=\"none\"/>\n",
              "    <path d=\"M18.56 5.44l.94 2.06.94-2.06 2.06-.94-2.06-.94-.94-2.06-.94 2.06-2.06.94zm-11 1L8.5 8.5l.94-2.06 2.06-.94-2.06-.94L8.5 2.5l-.94 2.06-2.06.94zm10 10l.94 2.06.94-2.06 2.06-.94-2.06-.94-.94-2.06-.94 2.06-2.06.94z\"/><path d=\"M17.41 7.96l-1.37-1.37c-.4-.4-.92-.59-1.43-.59-.52 0-1.04.2-1.43.59L10.3 9.45l-7.72 7.72c-.78.78-.78 2.05 0 2.83L4 21.41c.39.39.9.59 1.41.59.51 0 1.02-.2 1.41-.59l7.78-7.78 2.81-2.81c.8-.78.8-2.07 0-2.86zM5.41 20L4 18.59l7.72-7.72 1.47 1.35L5.41 20z\"/>\n",
              "  </svg>\n",
              "      </button>\n",
              "      \n",
              "  <style>\n",
              "    .colab-df-container {\n",
              "      display:flex;\n",
              "      flex-wrap:wrap;\n",
              "      gap: 12px;\n",
              "    }\n",
              "\n",
              "    .colab-df-convert {\n",
              "      background-color: #E8F0FE;\n",
              "      border: none;\n",
              "      border-radius: 50%;\n",
              "      cursor: pointer;\n",
              "      display: none;\n",
              "      fill: #1967D2;\n",
              "      height: 32px;\n",
              "      padding: 0 0 0 0;\n",
              "      width: 32px;\n",
              "    }\n",
              "\n",
              "    .colab-df-convert:hover {\n",
              "      background-color: #E2EBFA;\n",
              "      box-shadow: 0px 1px 2px rgba(60, 64, 67, 0.3), 0px 1px 3px 1px rgba(60, 64, 67, 0.15);\n",
              "      fill: #174EA6;\n",
              "    }\n",
              "\n",
              "    [theme=dark] .colab-df-convert {\n",
              "      background-color: #3B4455;\n",
              "      fill: #D2E3FC;\n",
              "    }\n",
              "\n",
              "    [theme=dark] .colab-df-convert:hover {\n",
              "      background-color: #434B5C;\n",
              "      box-shadow: 0px 1px 3px 1px rgba(0, 0, 0, 0.15);\n",
              "      filter: drop-shadow(0px 1px 2px rgba(0, 0, 0, 0.3));\n",
              "      fill: #FFFFFF;\n",
              "    }\n",
              "  </style>\n",
              "\n",
              "      <script>\n",
              "        const buttonEl =\n",
              "          document.querySelector('#df-328493d3-9c68-42fe-98bb-19f963fafe6b button.colab-df-convert');\n",
              "        buttonEl.style.display =\n",
              "          google.colab.kernel.accessAllowed ? 'block' : 'none';\n",
              "\n",
              "        async function convertToInteractive(key) {\n",
              "          const element = document.querySelector('#df-328493d3-9c68-42fe-98bb-19f963fafe6b');\n",
              "          const dataTable =\n",
              "            await google.colab.kernel.invokeFunction('convertToInteractive',\n",
              "                                                     [key], {});\n",
              "          if (!dataTable) return;\n",
              "\n",
              "          const docLinkHtml = 'Like what you see? Visit the ' +\n",
              "            '<a target=\"_blank\" href=https://colab.research.google.com/notebooks/data_table.ipynb>data table notebook</a>'\n",
              "            + ' to learn more about interactive tables.';\n",
              "          element.innerHTML = '';\n",
              "          dataTable['output_type'] = 'display_data';\n",
              "          await google.colab.output.renderOutput(dataTable, element);\n",
              "          const docLink = document.createElement('div');\n",
              "          docLink.innerHTML = docLinkHtml;\n",
              "          element.appendChild(docLink);\n",
              "        }\n",
              "      </script>\n",
              "    </div>\n",
              "  </div>\n",
              "  "
            ]
          },
          "metadata": {},
          "execution_count": 16
        }
      ]
    },
    {
      "cell_type": "markdown",
      "source": [
        "We are using the min max scaler to perform the scaling in order to not to have any issues while plotting the scatter plot where uou can see. It is scaled the values"
      ],
      "metadata": {
        "id": "Bzju5r09IPGQ"
      }
    },
    {
      "cell_type": "code",
      "source": [
        "km.cluster_centers_"
      ],
      "metadata": {
        "colab": {
          "base_uri": "https://localhost:8080/"
        },
        "id": "M5Ab-JD0mNis",
        "outputId": "f3ae6f52-b166-4103-ee96-78ce95c7ed50"
      },
      "execution_count": null,
      "outputs": [
        {
          "output_type": "execute_result",
          "data": {
            "text/plain": [
              "array([[0.38572899, 0.3133395 , 0.33541376, 0.56359359],\n",
              "       [0.31068389, 0.77209969, 0.34166449, 0.31653363],\n",
              "       [0.79636277, 0.78129183, 0.29806245, 0.40095764],\n",
              "       [0.28309695, 0.26282775, 0.26398524, 0.37080177],\n",
              "       [0.28721384, 0.24657477, 0.71518454, 0.42656139],\n",
              "       [0.14538583, 0.21346157, 0.36160247, 0.56548919],\n",
              "       [0.26442638, 0.24450427, 0.25217157, 0.74367134],\n",
              "       [0.24945689, 0.79281572, 0.23460852, 0.47633065]])"
            ]
          },
          "metadata": {},
          "execution_count": 17
        }
      ]
    },
    {
      "cell_type": "markdown",
      "source": [
        "Now let us visualize the the data using the different cluster points from 0,1,2 etc"
      ],
      "metadata": {
        "id": "k0tYPGsjPWW1"
      }
    },
    {
      "cell_type": "code",
      "source": [
        "df1 = out_data[out_data.cluster==0]\n",
        "df2 = out_data[out_data.cluster==1]\n",
        "df3 = out_data[out_data.cluster==2]\n",
        "df4 = out_data[out_data.cluster==3]\n",
        "\n",
        "plt.scatter(df1.x2,df1['x1'],color='green')\n",
        "plt.scatter(df2.x2,df2['x1'],color='red')\n",
        "plt.scatter(df3.x2,df3['x1'],color='black')\n",
        "plt.scatter(df4.x2,df4['x1'],color='blue')\n",
        "\n",
        "\n",
        "plt.scatter(km.cluster_centers_[:,0],km.cluster_centers_[:,1],km.cluster_centers_[:,2],km.cluster_centers_[:,3],marker='*',label='centroid')"
      ],
      "metadata": {
        "colab": {
          "base_uri": "https://localhost:8080/",
          "height": 284
        },
        "id": "HiI7qnhNjwV5",
        "outputId": "c54c82a8-5d4d-48bd-e3de-68009eb6c658"
      },
      "execution_count": null,
      "outputs": [
        {
          "output_type": "execute_result",
          "data": {
            "text/plain": [
              "<matplotlib.collections.PathCollection at 0x7f960ce634d0>"
            ]
          },
          "metadata": {},
          "execution_count": 18
        },
        {
          "output_type": "display_data",
          "data": {
            "text/plain": [
              "<Figure size 432x288 with 1 Axes>"
            ],
            "image/png": "[encoded data removed]"
          },
          "metadata": {
            "needs_background": "light"
          }
        }
      ]
    },
    {
      "cell_type": "code",
      "source": [
        "plt.scatter(df1.x3,df1['x2'],color='green')\n",
        "plt.scatter(df2.x3,df2['x2'],color='red')\n",
        "plt.scatter(df3.x3,df3['x2'],color='black')\n",
        "plt.scatter(df4.x3,df4['x2'],color='blue')"
      ],
      "metadata": {
        "colab": {
          "base_uri": "https://localhost:8080/",
          "height": 284
        },
        "id": "B1MD7PNdJkHl",
        "outputId": "d9a9ac90-5420-4fb6-cd9a-c539c20b56c0"
      },
      "execution_count": null,
      "outputs": [
        {
          "output_type": "execute_result",
          "data": {
            "text/plain": [
              "<matplotlib.collections.PathCollection at 0x7f960cf3cf10>"
            ]
          },
          "metadata": {},
          "execution_count": 19
        },
        {
          "output_type": "display_data",
          "data": {
            "text/plain": [
              "<Figure size 432x288 with 1 Axes>"
            ],
            "image/png": "[encoded data removed]"
          },
          "metadata": {
            "needs_background": "light"
          }
        }
      ]
    },
    {
      "cell_type": "code",
      "source": [
        "plt.scatter(df1.x4,df1['x3'],color='green')\n",
        "plt.scatter(df2.x4,df2['x3'],color='red')\n",
        "plt.scatter(df3.x4,df3['x3'],color='black')\n",
        "plt.scatter(df4.x4,df4['x3'],color='blue')"
      ],
      "metadata": {
        "colab": {
          "base_uri": "https://localhost:8080/",
          "height": 284
        },
        "id": "usc7utfsJpJE",
        "outputId": "a3d46938-b19c-4887-d992-6fffb26f2a18"
      },
      "execution_count": null,
      "outputs": [
        {
          "output_type": "execute_result",
          "data": {
            "text/plain": [
              "<matplotlib.collections.PathCollection at 0x7f960cf9ae90>"
            ]
          },
          "metadata": {},
          "execution_count": 20
        },
        {
          "output_type": "display_data",
          "data": {
            "text/plain": [
              "<Figure size 432x288 with 1 Axes>"
            ],
            "image/png": "[encoded data removed]"
          },
          "metadata": {
            "needs_background": "light"
          }
        }
      ]
    },
    {
      "cell_type": "code",
      "source": [
        "plt.scatter(df1.x1,df1['x4'],color='green')\n",
        "plt.scatter(df2.x1,df2['x4'],color='red')\n",
        "plt.scatter(df3.x1,df3['x4'],color='black')\n",
        "plt.scatter(df4.x1,df4['x4'],color='blue')"
      ],
      "metadata": {
        "colab": {
          "base_uri": "https://localhost:8080/",
          "height": 284
        },
        "id": "Tti1xccmJqbD",
        "outputId": "986f7fb5-e800-477a-aa65-f00ba9b93cf3"
      },
      "execution_count": null,
      "outputs": [
        {
          "output_type": "execute_result",
          "data": {
            "text/plain": [
              "<matplotlib.collections.PathCollection at 0x7f960cfefcd0>"
            ]
          },
          "metadata": {},
          "execution_count": 21
        },
        {
          "output_type": "display_data",
          "data": {
            "text/plain": [
              "<Figure size 432x288 with 1 Axes>"
            ],
            "image/png": "[encoded data removed]"
          },
          "metadata": {
            "needs_background": "light"
          }
        }
      ]
    },
    {
      "cell_type": "code",
      "source": [
        "k_rng = range(1,10)\n",
        "sse = []\n",
        "for k in k_rng:\n",
        "  km = KMeans(n_clusters=k)\n",
        "  km.fit(out_data[['x1','x2','x3','x4']])\n",
        "  sse.append(km.inertia_)\n",
        "\n",
        "plt.xlabel('K')\n",
        "plt.ylabel('Sum of squared error')\n",
        "plt.plot(k_rng,sse)"
      ],
      "metadata": {
        "colab": {
          "base_uri": "https://localhost:8080/",
          "height": 297
        },
        "id": "nTTNE0jRHMUp",
        "outputId": "f0f4c92e-f5db-4350-b859-c8bbba4c3085"
      },
      "execution_count": null,
      "outputs": [
        {
          "output_type": "execute_result",
          "data": {
            "text/plain": [
              "[<matplotlib.lines.Line2D at 0x7f960d274e50>]"
            ]
          },
          "metadata": {},
          "execution_count": 22
        },
        {
          "output_type": "display_data",
          "data": {
            "text/plain": [
              "<Figure size 432x288 with 1 Axes>"
            ],
            "image/png": "[encoded data removed]"
          },
          "metadata": {
            "needs_background": "light"
          }
        }
      ]
    },
    {
      "cell_type": "code",
      "source": [
        "# Import ElbowVisualizer\n",
        "from yellowbrick.cluster import KElbowVisualizer\n",
        "model = KMeans()\n",
        "# k is range of number of clusters.\n",
        "visualizer = KElbowVisualizer(model, k=(4,12), timings=False)\n",
        "visualizer.fit(out_data)        # Fit the data to the visualizer\n",
        "visualizer.show()        # Finalize and render the figure"
      ],
      "metadata": {
        "colab": {
          "base_uri": "https://localhost:8080/",
          "height": 395
        },
        "id": "WrjWs1EzOG0U",
        "outputId": "e4e0cf86-00b7-416b-c6de-fa0f38065624"
      },
      "execution_count": null,
      "outputs": [
        {
          "output_type": "display_data",
          "data": {
            "text/plain": [
              "<Figure size 576x396 with 1 Axes>"
            ],
            "image/png": "[encoded data removed]"
          },
          "metadata": {}
        },
        {
          "output_type": "execute_result",
          "data": {
            "text/plain": [
              "<matplotlib.axes._subplots.AxesSubplot at 0x7f96073a1450>"
            ]
          },
          "metadata": {},
          "execution_count": 23
        }
      ]
    },
    {
      "cell_type": "markdown",
      "source": [
        "I have used the elbow method which is a heuristic used in determining the number of clusters in a data set. The method consists of plotting the explained variation as a function of the number of clusters, and picking the elbow of the curve as the number of clusters to use."
      ],
      "metadata": {
        "id": "LhpUvkASOiZU"
      }
    },
    {
      "cell_type": "markdown",
      "source": [
        "From this graph it is evident that the elbow curve gives the number of clusters required and for our case it is **K = 8**. "
      ],
      "metadata": {
        "id": "rTAYkv4dPVAd"
      }
    },
    {
      "cell_type": "code",
      "source": [
        "from sklearn.manifold import TSNE\n",
        "m = TSNE(learning_rate=50)"
      ],
      "metadata": {
        "id": "OHLGpy-6dTni"
      },
      "execution_count": null,
      "outputs": []
    },
    {
      "cell_type": "markdown",
      "source": [
        "We will create a T-sne Model with learning rate 50 fitting to the data to t-sne. different configuration and evaluate these with an internal cost function. High learning rate will cause algorithm to be more adventurous in the configuration it price out while Low learning rates will cost to be more conservative. \n",
        "Usually learning rates fall in 10 to 1000 range."
      ],
      "metadata": {
        "id": "XkbdarhPhHcL"
      }
    },
    {
      "cell_type": "code",
      "source": [
        "tsne_features = m.fit_transform(out_data)\n",
        "tsne_features"
      ],
      "metadata": {
        "colab": {
          "base_uri": "https://localhost:8080/"
        },
        "id": "X8AK8vuWeGiT",
        "outputId": "d814e6e7-c999-4a11-ef2b-0d59534d837a"
      },
      "execution_count": null,
      "outputs": [
        {
          "output_type": "stream",
          "name": "stderr",
          "text": [
            "/usr/local/lib/python3.7/dist-packages/sklearn/manifold/_t_sne.py:783: FutureWarning: The default initialization in TSNE will change from 'random' to 'pca' in 1.2.\n",
            "  FutureWarning,\n"
          ]
        },
        {
          "output_type": "execute_result",
          "data": {
            "text/plain": [
              "array([[-2.20992966e+01,  5.57661057e+00],\n",
              "       [-2.13321514e+01,  5.73709822e+00],\n",
              "       [-2.21947079e+01,  5.86490154e+00],\n",
              "       [-2.16678619e+01,  5.30066919e+00],\n",
              "       [-2.29111271e+01,  6.42533207e+00],\n",
              "       [-2.29715157e+01,  4.13388014e+00],\n",
              "       [-2.06956062e+01,  5.14462328e+00],\n",
              "       [-2.08616848e+01,  4.17787933e+00],\n",
              "       [-2.37964592e+01,  4.79347134e+00],\n",
              "       [-2.08170261e+01,  4.20216131e+00],\n",
              "       [-2.30308990e+01,  5.00978088e+00],\n",
              "       [-2.04340477e+01,  3.99159575e+00],\n",
              "       [-2.22996941e+01,  6.02866125e+00],\n",
              "       [-2.19134064e+01,  6.92164993e+00],\n",
              "       [-2.24421120e+01,  4.84972525e+00],\n",
              "       [-2.30095253e+01,  3.77961040e+00],\n",
              "       [-2.17424297e+01,  3.28651881e+00],\n",
              "       [-2.29408131e+01,  4.62113047e+00],\n",
              "       [-2.05627880e+01,  5.77406502e+00],\n",
              "       [-2.07324886e+01,  5.39805174e+00],\n",
              "       [-2.26051579e+01,  6.91171598e+00],\n",
              "       [-2.20290852e+01,  6.39655924e+00],\n",
              "       [-2.13280067e+01,  4.72595978e+00],\n",
              "       [-2.38901196e+01,  4.38063049e+00],\n",
              "       [-2.19925194e+01,  4.96966505e+00],\n",
              "       [-2.29732361e+01,  5.69512081e+00],\n",
              "       [-2.33772430e+01,  6.23246527e+00],\n",
              "       [-2.13437824e+01,  3.80443192e+00],\n",
              "       [-2.08051128e+01,  4.08108807e+00],\n",
              "       [-1.96117802e+01,  4.44167709e+00],\n",
              "       [-2.40123692e+01,  5.51460505e+00],\n",
              "       [-2.26442165e+01,  6.39387608e+00],\n",
              "       [-2.34144077e+01,  6.41409016e+00],\n",
              "       [-2.16190014e+01,  6.06743002e+00],\n",
              "       [-1.98988094e+01,  6.39933014e+00],\n",
              "       [-2.30667248e+01,  6.23980141e+00],\n",
              "       [-2.26708183e+01,  4.74400806e+00],\n",
              "       [-2.20445538e+01,  5.01455927e+00],\n",
              "       [-2.21495609e+01,  3.82366157e+00],\n",
              "       [-2.16959705e+01,  4.13088083e+00],\n",
              "       [-2.25721416e+01,  4.79174662e+00],\n",
              "       [-1.99286079e+01,  6.44613361e+00],\n",
              "       [-2.42749577e+01,  4.87780952e+00],\n",
              "       [-2.10078068e+01,  4.46867132e+00],\n",
              "       [-2.21720085e+01,  3.77215314e+00],\n",
              "       [-2.20860004e+01,  5.82158279e+00],\n",
              "       [-2.03065681e+01,  3.64120245e+00],\n",
              "       [-2.01780567e+01,  5.55831909e+00],\n",
              "       [-2.39873962e+01,  5.41037560e+00],\n",
              "       [-2.18352375e+01,  4.35694170e+00],\n",
              "       [-2.09715061e+01,  5.66095114e+00],\n",
              "       [-2.22826595e+01,  4.86548901e+00],\n",
              "       [-2.04268208e+01,  5.24745178e+00],\n",
              "       [-2.18282833e+01, -1.01227627e+01],\n",
              "       [ 1.59162216e+01,  2.31799488e+01],\n",
              "       [-2.20865269e+01, -1.02499294e+01],\n",
              "       [-2.14779491e+01, -9.92694855e+00],\n",
              "       [ 1.75172234e+01,  2.56542950e+01],\n",
              "       [-2.20146770e+01, -1.10047436e+01],\n",
              "       [-2.14918404e+01, -9.92582321e+00],\n",
              "       [-2.15472279e+01, -1.04587269e+01],\n",
              "       [ 1.76640091e+01,  2.46357479e+01],\n",
              "       [-2.11145439e+01, -1.05619450e+01],\n",
              "       [ 1.81824570e+01,  2.43406792e+01],\n",
              "       [ 1.82572861e+01,  2.39447632e+01],\n",
              "       [ 1.71431656e+01,  2.43469181e+01],\n",
              "       [ 1.61163063e+01,  2.41559048e+01],\n",
              "       [ 1.68250599e+01,  2.45300236e+01],\n",
              "       [ 1.74410248e+01,  2.48576202e+01],\n",
              "       [-2.13315735e+01, -1.08695707e+01],\n",
              "       [-2.13335857e+01, -9.77350712e+00],\n",
              "       [ 1.76101227e+01,  2.37155857e+01],\n",
              "       [-2.19586182e+01, -1.05025015e+01],\n",
              "       [-2.10753155e+01, -1.00969534e+01],\n",
              "       [ 1.69092636e+01,  2.42037430e+01],\n",
              "       [ 1.63042126e+01,  2.55747471e+01],\n",
              "       [-2.14759941e+01, -1.07651978e+01],\n",
              "       [ 1.66760845e+01,  2.40639553e+01],\n",
              "       [ 1.75130463e+01,  2.33744392e+01],\n",
              "       [-1.19784603e+01, -2.13578968e+01],\n",
              "       [ 1.57119722e+01,  2.40570660e+01],\n",
              "       [-2.18681412e+01, -1.06072721e+01],\n",
              "       [ 1.53439274e+01,  2.45969791e+01],\n",
              "       [ 1.88126049e+01,  2.45400276e+01],\n",
              "       [ 1.58161440e+01,  2.47205372e+01],\n",
              "       [-2.19116821e+01, -1.04344263e+01],\n",
              "       [-2.42715950e+01,  5.57720566e+00],\n",
              "       [ 1.84218597e+01,  2.33283138e+01],\n",
              "       [ 1.60025520e+01,  2.31903191e+01],\n",
              "       [-2.09858608e+01, -1.01882420e+01],\n",
              "       [ 1.69124031e+01,  2.30590954e+01],\n",
              "       [-2.18702126e+01, -1.00125036e+01],\n",
              "       [ 1.68892174e+01,  2.33780670e+01],\n",
              "       [-2.11012115e+01, -1.08141451e+01],\n",
              "       [ 1.65755768e+01,  2.42706661e+01],\n",
              "       [-2.13027401e+01, -1.08243446e+01],\n",
              "       [ 1.81066704e+01,  2.40612717e+01],\n",
              "       [ 1.77143631e+01,  2.40020046e+01],\n",
              "       [ 1.80918350e+01,  2.33841324e+01],\n",
              "       [ 1.62985401e+01,  2.53518219e+01],\n",
              "       [ 1.57391729e+01,  2.41612282e+01],\n",
              "       [-2.09477158e+01, -9.95970821e+00],\n",
              "       [ 1.70177555e+01,  2.51819191e+01],\n",
              "       [ 1.66776714e+01,  2.43158817e+01],\n",
              "       [ 1.82843876e+01,  2.37715492e+01],\n",
              "       [ 1.77371979e+01,  2.44247551e+01],\n",
              "       [-2.19189968e+01, -9.97695160e+00],\n",
              "       [ 1.76543961e+01,  2.33975391e+01],\n",
              "       [ 1.76549358e+01,  2.51583729e+01],\n",
              "       [-2.17603455e+01, -1.03492594e+01],\n",
              "       [ 1.84890804e+01,  2.42854366e+01],\n",
              "       [ 1.67848892e+01,  2.41868210e+01],\n",
              "       [-2.09741974e+01, -1.06217909e+01],\n",
              "       [ 1.72437744e+01,  2.34718723e+01],\n",
              "       [-2.14204159e+01, -1.01159792e+01],\n",
              "       [ 1.77801533e+01,  2.52400379e+01],\n",
              "       [-2.17108803e+01, -1.09822989e+01],\n",
              "       [ 1.75787830e+01,  2.45192280e+01],\n",
              "       [-2.19052525e+01, -1.09755421e+01],\n",
              "       [ 1.73657284e+01,  2.50738277e+01],\n",
              "       [-2.13537693e+01, -1.01906204e+01],\n",
              "       [ 1.65708866e+01,  2.43318748e+01],\n",
              "       [ 7.88207960e+00, -1.82797794e+01],\n",
              "       [ 1.69476077e-01, -9.11893249e-01],\n",
              "       [ 8.47431087e+00, -1.76098423e+01],\n",
              "       [ 1.04939108e+01, -1.81015530e+01],\n",
              "       [ 8.13132286e+00, -2.01449871e+01],\n",
              "       [ 1.12989893e+01, -1.99073467e+01],\n",
              "       [-1.11837959e+01, -2.29176598e+01],\n",
              "       [ 9.89347363e+00, -1.94722157e+01],\n",
              "       [ 9.92150688e+00, -2.03918190e+01],\n",
              "       [ 7.36100817e+00, -1.94952755e+01],\n",
              "       [ 1.02310858e+01, -1.92671432e+01],\n",
              "       [ 1.01735439e+01, -1.90508003e+01],\n",
              "       [-9.11829710e-01, -1.72602162e-02],\n",
              "       [ 7.86897659e+00, -1.91063671e+01],\n",
              "       [ 1.08763037e+01, -1.70051727e+01],\n",
              "       [-1.27472715e+01, -2.19559345e+01],\n",
              "       [ 9.74326324e+00, -1.75022507e+01],\n",
              "       [ 8.50463772e+00, -1.98481789e+01],\n",
              "       [ 7.75466442e+00, -1.86209850e+01],\n",
              "       [ 2.99176984e-02, -2.75251001e-01],\n",
              "       [ 1.08658094e+01, -2.00357018e+01],\n",
              "       [ 1.01180964e+01, -2.01687946e+01],\n",
              "       [-4.92645949e-01, -6.30823493e-01],\n",
              "       [ 9.67029381e+00, -2.01532841e+01],\n",
              "       [-1.23337574e+01, -2.24916267e+01],\n",
              "       [ 1.01795082e+01, -1.81575394e+01],\n",
              "       [ 7.54462576e+00, -2.08293991e+01],\n",
              "       [ 2.88121338e+01, -6.92084253e-01],\n",
              "       [ 1.20801401e+01, -1.84066067e+01],\n",
              "       [ 1.07021351e+01, -1.77156887e+01],\n",
              "       [ 1.03709050e-01,  3.03866208e-01],\n",
              "       [ 1.01085405e+01, -1.84541225e+01],\n",
              "       [ 1.07647381e+01, -1.89606533e+01],\n",
              "       [ 1.06765347e+01, -1.77371407e+01],\n",
              "       [-8.14605430e-02,  2.56020427e-01],\n",
              "       [ 9.72035313e+00, -1.74455223e+01],\n",
              "       [ 9.62893105e+00, -1.71840897e+01],\n",
              "       [ 9.58915043e+00, -1.94256573e+01],\n",
              "       [ 8.06588459e+00, -1.91784801e+01],\n",
              "       [ 1.04413633e+01, -1.95396061e+01],\n",
              "       [-1.14024925e+01, -2.16745853e+01],\n",
              "       [ 2.75694046e+01, -6.00343883e-01],\n",
              "       [ 9.31488514e+00, -1.95627403e+01],\n",
              "       [-2.89425075e-01,  1.11670129e-01],\n",
              "       [-1.13160992e+01, -2.26646385e+01],\n",
              "       [ 7.95323467e+00, -2.05631199e+01],\n",
              "       [ 9.15861797e+00, -1.71910782e+01],\n",
              "       [ 1.06876850e+01, -1.94138374e+01],\n",
              "       [ 7.41692638e+00, -1.84778080e+01],\n",
              "       [ 1.08976126e+01, -1.89113884e+01],\n",
              "       [-1.23774061e+01, -2.26018333e+01],\n",
              "       [ 9.45208645e+00, -1.90751972e+01],\n",
              "       [-1.27821722e+01, -2.22440033e+01],\n",
              "       [ 4.37476858e-02, -3.53047609e-01],\n",
              "       [-6.64490461e-01, -2.96940565e-01],\n",
              "       [ 1.21063356e+01, -1.92250156e+01],\n",
              "       [ 7.76662302e+00, -2.07891674e+01],\n",
              "       [ 9.44183159e+00, -1.85689430e+01],\n",
              "       [-1.06606417e+01, -2.22976818e+01],\n",
              "       [-1.19119301e+01, -2.21746540e+01],\n",
              "       [ 9.06635571e+00, -2.06702194e+01],\n",
              "       [-1.88130689e+00,  2.05274162e+01],\n",
              "       [ 1.03723831e+01, -1.78167591e+01],\n",
              "       [ 9.76748466e+00, -1.95953197e+01],\n",
              "       [ 8.46142673e+00, -2.06828728e+01],\n",
              "       [ 9.60292244e+00, -2.09349327e+01],\n",
              "       [ 8.62366962e+00, -1.95079460e+01],\n",
              "       [ 8.82016182e+00, -2.03231144e+01],\n",
              "       [ 9.48774624e+00, -2.09576721e+01],\n",
              "       [ 7.94942665e+00, -1.93232250e+01],\n",
              "       [-1.12475834e+01, -2.31029072e+01],\n",
              "       [-1.12209406e+01, -2.24911213e+01],\n",
              "       [ 8.05017185e+00, -1.70067787e+01],\n",
              "       [ 8.31563568e+00, -1.68277683e+01],\n",
              "       [ 1.13018646e+01, -1.77860966e+01],\n",
              "       [-1.19732504e+01, -2.25648842e+01],\n",
              "       [ 8.67675591e+00, -1.98771553e+01],\n",
              "       [ 1.14813747e+01, -1.89482613e+01],\n",
              "       [-1.22759943e+01, -2.30429401e+01],\n",
              "       [-1.25644779e+01, -2.22769623e+01],\n",
              "       [ 5.98217785e-01,  3.16640377e-01],\n",
              "       [ 7.61110830e+00, -1.73593178e+01],\n",
              "       [ 9.18466568e+00, -2.08362293e+01],\n",
              "       [ 7.56740236e+00, -2.04082699e+01],\n",
              "       [ 7.33542824e+00, -1.88342800e+01],\n",
              "       [ 9.16168118e+00, -2.08472900e+01],\n",
              "       [ 2.89490757e+01, -6.48531556e-01],\n",
              "       [ 9.18314743e+00, -1.89470806e+01],\n",
              "       [-1.75319955e-01, -1.25917330e-01],\n",
              "       [ 1.14692316e+01, -1.94658165e+01],\n",
              "       [ 2.87220078e+01,  3.60522538e-01],\n",
              "       [ 2.77817726e+01,  5.34480810e-01],\n",
              "       [ 2.80865307e+01,  8.17672551e-01],\n",
              "       [ 2.84611130e+01, -5.14584035e-02],\n",
              "       [ 2.87633629e+01,  9.86678302e-02],\n",
              "       [ 2.69891853e+01,  1.58378124e+00],\n",
              "       [ 2.91735191e+01,  8.36493790e-01],\n",
              "       [ 2.66090546e+01,  8.77148509e-01],\n",
              "       [ 2.77810974e+01, -1.75101653e-01],\n",
              "       [ 2.75149689e+01,  1.51299167e+00],\n",
              "       [ 1.41865277e+00, -1.28072456e-01],\n",
              "       [ 2.99497356e+01,  1.06360686e+00],\n",
              "       [ 2.79593658e+01,  1.12005889e+00],\n",
              "       [ 2.80625057e+01,  1.81949228e-01],\n",
              "       [ 2.75167618e+01,  1.94562411e+00],\n",
              "       [ 2.94300117e+01,  2.25294447e+00],\n",
              "       [ 8.21824312e-01,  7.04521894e-01],\n",
              "       [ 1.41979659e+00, -3.13495249e-01],\n",
              "       [ 2.91563129e+01,  2.47760463e+00],\n",
              "       [ 2.75873528e+01, -3.11176777e-02],\n",
              "       [ 2.95263214e+01,  4.56340522e-01],\n",
              "       [ 2.66533031e+01,  8.14596117e-01],\n",
              "       [ 2.88191051e+01,  1.72378707e+00],\n",
              "       [ 2.94186153e+01, -3.97014499e-01],\n",
              "       [ 2.72788696e+01,  2.96164602e-01],\n",
              "       [ 2.89468060e+01,  2.35385227e+00],\n",
              "       [ 2.74662666e+01,  1.14974499e+00],\n",
              "       [ 2.69019661e+01,  2.50127856e-02],\n",
              "       [ 2.91948147e+01,  1.85983074e+00],\n",
              "       [ 7.06221104e+00, -1.82114944e+01],\n",
              "       [ 2.78673706e+01,  1.68419588e+00],\n",
              "       [ 2.83770733e+01,  5.64843953e-01],\n",
              "       [ 2.77482300e+01, -4.50029790e-01],\n",
              "       [ 2.86260281e+01,  2.43678546e+00],\n",
              "       [ 2.73916264e+01,  2.06810498e+00],\n",
              "       [ 2.92321072e+01,  9.28960025e-01],\n",
              "       [ 2.74337273e+01,  1.59304881e+00],\n",
              "       [ 2.91909122e+01,  2.27547956e+00],\n",
              "       [ 2.68450775e+01,  2.53463238e-01],\n",
              "       [ 2.69755898e+01, -2.13270128e-01],\n",
              "       [ 2.70832520e+01, -1.12793766e-01],\n",
              "       [ 1.15812826e+00,  4.72183973e-01],\n",
              "       [ 2.79049454e+01, -7.72083759e-01],\n",
              "       [ 2.72506485e+01,  9.85962510e-01],\n",
              "       [ 2.91304226e+01,  5.30839801e-01],\n",
              "       [ 2.70542145e+01, -2.91325092e-01],\n",
              "       [ 2.77624569e+01,  4.44898196e-02],\n",
              "       [ 1.38055837e+00,  1.67190745e-01],\n",
              "       [ 2.82980595e+01,  8.95537794e-01],\n",
              "       [ 2.96216793e+01,  6.97564304e-01],\n",
              "       [-1.04949446e+01, -2.38355255e+01],\n",
              "       [-2.64363670e+00,  2.25774670e+01],\n",
              "       [-1.06973200e+01, -2.29774704e+01],\n",
              "       [ 6.99732661e-01, -9.25964117e-01],\n",
              "       [-3.81860089e+00,  2.24986038e+01],\n",
              "       [-3.43617606e+00,  2.09113884e+01],\n",
              "       [-1.17501106e+01, -2.17842560e+01],\n",
              "       [-2.12948966e+00,  2.25912495e+01],\n",
              "       [-4.91540194e+00,  2.03328552e+01],\n",
              "       [-1.14350271e+01, -2.35670300e+01],\n",
              "       [-4.14293736e-01, -1.23451293e-01],\n",
              "       [-5.02938175e+00,  2.23876953e+01],\n",
              "       [-4.45265436e+00,  2.08252506e+01],\n",
              "       [ 9.67795700e-02, -5.34793019e-01],\n",
              "       [-1.17848053e+01, -2.25166130e+01],\n",
              "       [-5.12567997e+00,  2.21564541e+01],\n",
              "       [-2.59929729e+00,  2.18035984e+01],\n",
              "       [-1.13071623e+01, -2.36100979e+01],\n",
              "       [-1.19425716e+01, -2.38206577e+01],\n",
              "       [-3.30378628e+00,  2.30163479e+01],\n",
              "       [-2.05594945e+00,  2.17878780e+01],\n",
              "       [-2.58838034e+00,  2.26093445e+01],\n",
              "       [-3.71735501e+00,  2.21674938e+01],\n",
              "       [ 2.82172650e-01, -3.17447543e-01],\n",
              "       [ 4.29299146e-01,  2.34566256e-02],\n",
              "       [-1.20390081e+01, -2.27596989e+01],\n",
              "       [-4.95099735e+00,  2.01750278e+01],\n",
              "       [-1.21435347e+01, -2.36960506e+01],\n",
              "       [ 2.24559113e-01, -8.14542413e-01],\n",
              "       [-2.56621742e+00,  2.16527615e+01],\n",
              "       [-3.22910547e+00,  2.05796757e+01],\n",
              "       [-1.38592973e-01, -5.00574648e-01],\n",
              "       [-2.28723621e+00,  2.27136574e+01],\n",
              "       [-5.52760029e+00,  2.21400528e+01],\n",
              "       [-2.23671031e+00,  2.25099373e+01],\n",
              "       [ 1.04260004e+00, -4.57360685e-01],\n",
              "       [-3.88566256e+00,  1.98062439e+01],\n",
              "       [ 4.41409916e-01, -6.64639592e-01],\n",
              "       [-2.13807508e-01,  6.20172083e-01],\n",
              "       [ 8.63226771e-01, -5.42100430e-01],\n",
              "       [-4.25107527e+00,  2.09151115e+01],\n",
              "       [-3.03268385e+00,  2.18548775e+01],\n",
              "       [-4.02064228e+00,  1.98774128e+01],\n",
              "       [-1.16050711e+01, -2.28867455e+01],\n",
              "       [-3.57843423e+00,  2.28687763e+01],\n",
              "       [-1.25712080e+01, -2.25722370e+01],\n",
              "       [-4.74497843e+00,  1.94782486e+01],\n",
              "       [-1.29700279e+01, -2.32531834e+01],\n",
              "       [-5.23446655e+00,  2.22865105e+01],\n",
              "       [ 5.19923270e-01, -3.30954716e-02],\n",
              "       [-1.26285982e+01, -2.22995186e+01],\n",
              "       [-1.23111954e+01, -2.33686008e+01],\n",
              "       [-1.05546284e+01, -2.28794289e+01],\n",
              "       [-3.93628812e+00,  2.04934502e+01],\n",
              "       [-3.26106334e+00,  2.03896084e+01],\n",
              "       [-3.94587469e+00,  2.19211483e+01],\n",
              "       [-3.01108122e+00,  2.18450317e+01],\n",
              "       [-4.59778881e+00,  2.13470535e+01],\n",
              "       [-2.57076693e+00,  2.01110268e+01],\n",
              "       [-3.83449650e+00,  2.28269215e+01],\n",
              "       [-2.92769575e+00,  2.17357254e+01],\n",
              "       [ 9.93476510e-01,  2.04989552e-01],\n",
              "       [-3.85203147e+00,  2.19222584e+01],\n",
              "       [ 1.15885487e+01, -1.78955250e+01],\n",
              "       [-1.21969252e+01, -2.23319416e+01],\n",
              "       [ 6.14699185e-01, -7.42846131e-01],\n",
              "       [ 4.62627411e-02, -8.57342541e-01],\n",
              "       [-3.06306410e+00,  2.02189522e+01],\n",
              "       [-4.23779726e+00,  2.09346428e+01],\n",
              "       [-1.14700403e+01, -2.32072639e+01],\n",
              "       [-3.94347858e+00,  1.93729858e+01],\n",
              "       [ 9.87605631e-01, -5.29231131e-01],\n",
              "       [-1.19711657e+01, -2.37821007e+01],\n",
              "       [-3.03414154e+00,  2.26625633e+01],\n",
              "       [-1.05241299e+01, -2.26010094e+01],\n",
              "       [-2.20769787e+00,  2.06571121e+01],\n",
              "       [-1.57897973e+00,  2.08590679e+01],\n",
              "       [-2.71881866e+00,  2.01543255e+01],\n",
              "       [-2.86314225e+00,  2.22101364e+01],\n",
              "       [-2.99539399e+00,  2.06078854e+01],\n",
              "       [-6.14308357e-01, -7.58058429e-01],\n",
              "       [-3.82709694e+00,  2.15164013e+01],\n",
              "       [-1.10213022e+01, -2.23027954e+01],\n",
              "       [-4.80561686e+00,  2.19627647e+01],\n",
              "       [-1.04904232e+01, -2.32983990e+01],\n",
              "       [-2.16238832e+00,  2.21804066e+01],\n",
              "       [-4.11804295e+00,  2.11858177e+01],\n",
              "       [-3.76269579e+00,  2.16770973e+01],\n",
              "       [-1.10031099e+01, -2.18100300e+01]], dtype=float32)"
            ]
          },
          "metadata": {},
          "execution_count": 25
        }
      ]
    },
    {
      "cell_type": "code",
      "source": [
        "out_data['x'] = tsne_features[:,0]\n",
        "out_data['y'] = tsne_features[:,1]"
      ],
      "metadata": {
        "id": "pPFzazAtezA6"
      },
      "execution_count": null,
      "outputs": []
    },
    {
      "cell_type": "code",
      "source": [
        "import seaborn as sns\n",
        "sns.scatterplot(x='x',y='y',data=out_data)\n",
        "plt.show"
      ],
      "metadata": {
        "colab": {
          "base_uri": "https://localhost:8080/",
          "height": 380
        },
        "id": "X0_oPRivNPLd",
        "outputId": "7d16c4d6-2873-40b8-a382-491317763006"
      },
      "execution_count": null,
      "outputs": [
        {
          "output_type": "execute_result",
          "data": {
            "text/plain": [
              "<function matplotlib.pyplot.show>"
            ]
          },
          "metadata": {},
          "execution_count": 27
        },
        {
          "output_type": "display_data",
          "data": {
            "text/plain": [
              "<Figure size 576x396 with 1 Axes>"
            ],
            "image/png": "[encoded data removed]"
          },
          "metadata": {}
        }
      ]
    },
    {
      "cell_type": "markdown",
      "source": [
        "From this plot we can clearly see how all the samples are nicely spaced apart and grouped together with their respective digits. This could be an amazing starting point to then use a clustering algorithm and try to identify the clusters or to actually use these two dimensions as input to another algorithm"
      ],
      "metadata": {
        "id": "aoURAIVmOW0l"
      }
    },
    {
      "cell_type": "markdown",
      "source": [
        "**References:**\n",
        "\n",
        "\n",
        "for log transformation - https://www.youtube.com/watch?v=YCwRd-N3D14\n",
        "\n",
        "for the elbow curves: https://www.scikit-yb.org/en/latest/api/cluster/elbow.html\n",
        "\n",
        "https://towardsdatascience.com/are-you-solving-ml-clustering-problems-using-k-means-68fb4efa5469\n",
        "\n",
        "https://towardsdatascience.com/explaining-k-means-clustering-5298dc47bad6\n",
        "\n",
        "https://towardsdatascience.com/visualising-high-dimensional-datasets-using-pca-and-t-sne-in-python-8ef87e7915b\n",
        "\n",
        "https://www.youtube.com/watch?v=85XaciPBCkw"
      ],
      "metadata": {
        "id": "v-gnIIeSfYs4"
      }
    }
  ]
}